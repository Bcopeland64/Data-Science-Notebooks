{
  "nbformat": 4,
  "nbformat_minor": 0,
  "metadata": {
    "colab": {
      "name": "Copy of 03_word_embeddings",
      "provenance": [],
      "collapsed_sections": [],
      "toc_visible": true,
      "include_colab_link": true
    },
    "kernelspec": {
      "name": "python3",
      "display_name": "Python 3"
    }
  },
  "cells": [
    {
      "cell_type": "markdown",
      "metadata": {
        "id": "view-in-github",
        "colab_type": "text"
      },
      "source": [
        "<a href=\"https://colab.research.google.com/github/Bcopeland64/Data-Science-Notebooks/blob/master/Copy_of_03_word_embeddings.ipynb\" target=\"_parent\"><img src=\"https://colab.research.google.com/assets/colab-badge.svg\" alt=\"Open In Colab\"/></a>"
      ]
    },
    {
      "cell_type": "markdown",
      "metadata": {
        "id": "tLRfLrVXtUTI"
      },
      "source": [
        "© 2021 Zaka AI, Inc. All Rights Reserved"
      ]
    },
    {
      "cell_type": "markdown",
      "metadata": {
        "id": "caLGnxM2Ib_T"
      },
      "source": [
        "# Word Embeddings\n",
        "**Objective:** The goal from this exercise is to explore the Word2Vec technique for word embeddings and introduce Stanford's GloVe embedding as well. The libraries we will be using are `Gensim` for Word Embeddings Word2Vec and GloVe, `matplotlib` for visualization and `Scikit-Learn` for Principle Component Analysis models which are used for reducing dimensionality."
      ]
    },
    {
      "cell_type": "markdown",
      "metadata": {
        "id": "dj1QPhssIfi8"
      },
      "source": [
        "## Learn Word2Vec Embedding using Gensim\n",
        "\n",
        "Word2Vec models require a lot of text, e.g. the entire Wikipedia corpus. However, we will demonstrate the principles using a small in-memory example of text.\n",
        "\n",
        "Each sentence must be tokenized (divided into words and prepared). The sentences could be text loaded into memory, or an iterator that progressively loads text, required for very large text corpora. \n",
        "\n",
        "There are many parameters on this constructor:\n",
        "\n",
        "*   **`size`**: (default 100) The number of dimensions of the embedding, e.g. the length of the dense vector to represent each token (word).\n",
        "*   **`window`**: (default 5) The maximum distance between a target word and words around the target word.\n",
        "*   **`min_count`**: (default 5) The minimum count of words to consider when training the model; words with an occurrence less than this count will be ignored.\n",
        "*   **`workers`**: (default 3) The number of threads to use while training.\n",
        "*   **`sg`**: (default 0 or CBOW) The training algorithm, either CBOW (0) or skip gram (1)."
      ]
    },
    {
      "cell_type": "markdown",
      "metadata": {
        "id": "k7pU1nY3LhkO"
      },
      "source": [
        "###Building and training a Word2Vec model"
      ]
    },
    {
      "cell_type": "code",
      "metadata": {
        "id": "bY9k0TquxeHp",
        "colab": {
          "base_uri": "https://localhost:8080/"
        },
        "outputId": "7514d3dd-ef85-4b2e-b06c-bee71c06c3b9"
      },
      "source": [
        "from gensim.models import Word2Vec\n",
        "\n",
        "# define training data\n",
        "sentences = [['this', 'is', 'the', 'first', 'sentence', 'for', 'word2vec'],\n",
        "\t\t\t['this', 'is', 'the', 'second', 'sentence'],\n",
        "\t\t\t['yet', 'another', 'sentence'],\n",
        "\t\t\t['one', 'more', 'sentence'],\n",
        "\t\t\t['and', 'the', 'final', 'sentence']]\n",
        "\n",
        "# train model\n",
        "model = Word2Vec(sentences, min_count=1)\n",
        "\n",
        "# summarize the loaded model\n",
        "print(model)\n",
        "\n",
        "# summarize vocabulary\n",
        "words = list(model.wv.vocab)\n",
        "print(words)\n",
        "\n",
        "# access vector for one word\n",
        "print(model['sentence'])\n",
        "\n",
        "# save model\n",
        "model.save('model.bin')"
      ],
      "execution_count": 1,
      "outputs": [
        {
          "output_type": "stream",
          "text": [
            "Word2Vec(vocab=14, size=100, alpha=0.025)\n",
            "['this', 'is', 'the', 'first', 'sentence', 'for', 'word2vec', 'second', 'yet', 'another', 'one', 'more', 'and', 'final']\n",
            "[ 3.8252715e-03  2.9467340e-03  2.0233737e-03 -2.1302667e-03\n",
            " -3.7206076e-03 -3.6929452e-04  4.3258345e-04  2.9179535e-03\n",
            "  1.4901059e-03 -3.8824179e-03  9.7155257e-04  3.5512683e-03\n",
            "  3.3129300e-03 -4.5282333e-03  2.7307668e-03 -6.7893806e-04\n",
            "  3.2862150e-03  1.3461219e-03  1.1463446e-03 -7.7458675e-04\n",
            " -1.1883085e-05 -4.8833098e-03  1.8504651e-03 -2.3871462e-03\n",
            " -1.5575428e-03  9.5191988e-04  3.1844757e-03  3.0718313e-03\n",
            " -4.9687102e-03 -4.6023387e-03  2.1438519e-03  4.5355777e-03\n",
            " -4.9090087e-03  3.5469402e-03 -1.1380657e-03 -6.6052243e-04\n",
            "  2.8393506e-03  4.3803547e-03  3.3795626e-03 -3.4147473e-03\n",
            "  4.6415231e-03 -6.7675539e-04 -2.2244516e-03  2.2848386e-03\n",
            "  1.7679393e-03  4.2636050e-03  2.6122306e-03  1.8055083e-03\n",
            "  4.4262414e-03  1.9141125e-03 -2.4068134e-03 -1.9823918e-03\n",
            " -4.0669739e-03  8.9447400e-05 -4.3557794e-04 -2.2622347e-03\n",
            " -4.5656101e-03  3.5065266e-03 -5.7485147e-04 -4.8442245e-03\n",
            " -4.9640164e-03 -1.3592638e-03  3.9987033e-03 -4.6761883e-03\n",
            " -3.0931213e-03 -1.8895244e-03  2.3497452e-03 -4.9480324e-04\n",
            "  1.1425182e-03  4.2905272e-03 -2.2486537e-03  9.1073161e-04\n",
            "  4.4407272e-03  2.2828560e-03 -2.4770126e-03 -2.6247948e-03\n",
            " -8.3829736e-04  2.0879752e-03  4.0292060e-03 -3.6942321e-04\n",
            "  3.2447651e-04  9.4766123e-04  2.5163114e-03  3.5235779e-03\n",
            " -4.1570310e-03  3.0113505e-03  3.2979730e-03  3.8289214e-03\n",
            " -1.7011843e-03 -4.4750990e-03 -6.7373976e-04 -3.9485786e-03\n",
            "  2.7737578e-03  5.5913336e-04 -2.6896056e-03 -3.8372278e-03\n",
            " -1.0942289e-03  3.1538997e-03  5.1002973e-04 -7.9693960e-04]\n"
          ],
          "name": "stdout"
        },
        {
          "output_type": "stream",
          "text": [
            "/usr/local/lib/python3.7/dist-packages/ipykernel_launcher.py:21: DeprecationWarning: Call to deprecated `__getitem__` (Method will be removed in 4.0.0, use self.wv.__getitem__() instead).\n"
          ],
          "name": "stderr"
        }
      ]
    },
    {
      "cell_type": "code",
      "metadata": {
        "id": "IWjTGAuQC59K",
        "colab": {
          "base_uri": "https://localhost:8080/"
        },
        "outputId": "58ba427b-39ac-46df-d335-e5e5870121f3"
      },
      "source": [
        "# let's load the model and test it\n",
        "\n",
        "# load model\n",
        "new_model = Word2Vec.load('model.bin')\n",
        "print(new_model['this', 'is'])"
      ],
      "execution_count": 2,
      "outputs": [
        {
          "output_type": "stream",
          "text": [
            "[[ 3.4840916e-05 -4.6668355e-03  3.6501297e-04 -3.1185590e-03\n",
            "   1.6333726e-03 -3.4484247e-04 -2.8973778e-03  3.3675225e-03\n",
            "   3.7254854e-03 -5.9292087e-04 -2.0923873e-03  2.3640450e-03\n",
            "   5.8420515e-04 -3.2478266e-03 -1.3389767e-03 -3.3331090e-03\n",
            "   1.7663728e-03 -2.6506649e-03  4.1070078e-03  1.7422874e-03\n",
            "   3.4187366e-03 -2.8637932e-03 -3.6841731e-03  4.5122262e-03\n",
            "   4.4628480e-03 -4.7242510e-04  1.5319318e-03  3.1952495e-03\n",
            "   2.3117822e-03 -5.2560813e-04 -1.4429304e-03 -1.8457507e-03\n",
            "   4.3644002e-03 -4.3646381e-03  4.8847524e-03 -3.5636788e-03\n",
            "   3.7375127e-03 -2.4277766e-03 -4.4095897e-04 -1.3621163e-03\n",
            "  -2.3357845e-03 -1.0204180e-03 -3.5437508e-03 -1.9695014e-03\n",
            "   3.2613922e-03  2.1835477e-03 -2.8063033e-03  1.9395361e-03\n",
            "   4.8268768e-03 -2.5288321e-03 -7.2000938e-04  3.3970301e-03\n",
            "  -3.5570804e-03 -1.1639282e-03 -3.6440121e-03 -2.6441398e-03\n",
            "   3.6512876e-03  3.3878032e-03  2.0610832e-03 -4.1708075e-03\n",
            "  -2.4934679e-03  4.4100741e-03 -3.2954845e-03 -2.5838523e-03\n",
            "  -1.8154307e-03  4.3826518e-03 -4.4661243e-03 -2.2002573e-03\n",
            "  -4.0373062e-03  4.9137319e-03 -2.1814052e-03  2.3607400e-03\n",
            "  -3.4143087e-03  4.6818884e-04 -2.7762516e-03 -2.0582126e-03\n",
            "   2.5595326e-03 -2.2632175e-03  2.8117117e-03  4.9763252e-03\n",
            "  -5.6804548e-04 -2.8354832e-04  3.3370520e-03 -1.0736617e-03\n",
            "   2.3986166e-03  2.7718944e-03  2.9334619e-03  1.2160268e-03\n",
            "  -1.7463905e-03 -4.6279239e-03  8.9487509e-04 -2.5119972e-03\n",
            "   2.4285114e-03 -4.0975478e-03 -4.8353234e-03 -9.4856374e-04\n",
            "   2.3070246e-03 -7.1545300e-04  1.1186324e-03  1.3745538e-03]\n",
            " [-4.7582919e-03  1.3184476e-04 -2.2152881e-03 -1.7902957e-03\n",
            "   3.6222085e-03  3.2970535e-03  2.5541855e-03  3.1284322e-05\n",
            "  -5.7132967e-04 -2.2482863e-03 -4.8852363e-03 -4.1925511e-03\n",
            "   4.7317999e-03 -2.5453931e-03 -4.0167696e-03 -3.7256626e-03\n",
            "   1.2596311e-03  3.8281428e-03  3.7973507e-03  1.6318288e-04\n",
            "   4.2629503e-03  3.9216937e-04 -1.7004787e-03  2.2662960e-03\n",
            "  -2.8511966e-03  4.9231565e-03  2.5293868e-04 -4.6490817e-03\n",
            "   3.7209440e-03 -1.7294075e-04 -4.2766109e-03  4.8678759e-03\n",
            "  -9.1520016e-04  1.6358523e-03  9.8267279e-04  2.6787089e-03\n",
            "   4.5549483e-03  3.4730041e-03 -4.4424492e-03  3.7872617e-03\n",
            "  -2.4385396e-03  3.9391503e-05 -1.9258498e-04  9.3922025e-04\n",
            "  -7.4719519e-06  4.7269999e-03  2.5494359e-03  7.4791128e-04\n",
            "   4.5075151e-04  4.3650642e-03 -3.4777028e-03  3.3627565e-03\n",
            "  -3.5490759e-03  4.9403459e-03 -2.4583775e-03 -7.1578322e-04\n",
            "   2.5155949e-03 -1.0443733e-03  1.2204482e-03  4.4032568e-03\n",
            "   8.7682747e-05  1.8806166e-03 -3.3855038e-03 -8.1765663e-04\n",
            "   3.4993840e-03  4.4607283e-03 -2.2465680e-03  1.1579145e-03\n",
            "   2.6980706e-04 -4.0814858e-03  3.1780684e-03 -3.1094572e-03\n",
            "   4.4837478e-03  3.6321881e-03  5.1006617e-04  3.5807602e-03\n",
            "  -4.8225708e-03  1.0002562e-04  2.2122329e-03 -3.8950723e-03\n",
            "  -5.1197603e-05  3.8968397e-03 -6.4118742e-04  9.2803454e-04\n",
            "   3.5258038e-03 -8.0969075e-06 -4.6879021e-03 -3.7252654e-03\n",
            "   3.6180883e-03  4.0390803e-03 -2.4414323e-03 -3.5371047e-03\n",
            "  -2.8308572e-03 -3.0049912e-03 -6.5467597e-05 -4.7915932e-03\n",
            "  -1.4887312e-03  1.1277134e-03 -1.2491189e-03 -5.8380078e-04]]\n"
          ],
          "name": "stdout"
        },
        {
          "output_type": "stream",
          "text": [
            "/usr/local/lib/python3.7/dist-packages/ipykernel_launcher.py:5: DeprecationWarning: Call to deprecated `__getitem__` (Method will be removed in 4.0.0, use self.wv.__getitem__() instead).\n",
            "  \"\"\"\n"
          ],
          "name": "stderr"
        }
      ]
    },
    {
      "cell_type": "markdown",
      "metadata": {
        "id": "moU2ue2iCCGm"
      },
      "source": [
        "### Visualize Word Embedding\n",
        "\n",
        "After learning the word embedding for the text, it's nice to explore it with visualization. We can use classical projection methods to reduce the high-dimensional word vectors to two- dimensional plots and plot them on a graph. The visualizations can provide a qualitative diagnostic for our learned model."
      ]
    },
    {
      "cell_type": "code",
      "metadata": {
        "id": "QSr__Ji1Ilku",
        "colab": {
          "base_uri": "https://localhost:8080/",
          "height": 300
        },
        "outputId": "662835fe-25a2-4dbb-cdd9-1fcb2c499242"
      },
      "source": [
        "from gensim.models import Word2Vec\n",
        "from sklearn.decomposition import PCA\n",
        "from matplotlib import pyplot\n",
        "\n",
        "# define training data\n",
        "sentences = [['this', 'is', 'the', 'first', 'sentence', 'for', 'word2vec'],\n",
        "\t\t\t['this', 'is', 'the', 'second', 'sentence'],\n",
        "\t\t\t['yet', 'another', 'sentence'],\n",
        "\t\t\t['one', 'more', 'sentence'],\n",
        "\t\t\t['and', 'the', 'final', 'sentence']]\n",
        "\n",
        "# train model\n",
        "model = Word2Vec(sentences, min_count=1)\n",
        "\n",
        "# fit a 2D PCA model to the vectors\n",
        "X = model[model.wv.vocab]\n",
        "pca = PCA(n_components=2) \t\t\t\t#reduce dimensionality to 2D\n",
        "result = pca.fit_transform(X) \t\t#2D model to plot\n",
        "\n",
        "# create a scatter plot of the projection\n",
        "# pull out the 2 dimensions as x and y\n",
        "pyplot.scatter(result[:, 0], result[:, 1])\n",
        "words = list(model.wv.vocab)\n",
        "\n",
        "# annotate the points on the graph with the words themselves\n",
        "for i, word in enumerate(words):\n",
        "\tpyplot.annotate(word, xy=(result[i, 0], result[i, 1]))\n",
        "pyplot.show()"
      ],
      "execution_count": 3,
      "outputs": [
        {
          "output_type": "stream",
          "text": [
            "/usr/local/lib/python3.7/dist-packages/ipykernel_launcher.py:16: DeprecationWarning: Call to deprecated `__getitem__` (Method will be removed in 4.0.0, use self.wv.__getitem__() instead).\n",
            "  app.launch_new_instance()\n"
          ],
          "name": "stderr"
        },
        {
          "output_type": "display_data",
          "data": {
            "image/png": "[encoded data removed]",
            "text/plain": [
              "<Figure size 432x288 with 1 Axes>"
            ]
          },
          "metadata": {
            "tags": [],
            "needs_background": "light"
          }
        }
      ]
    },
    {
      "cell_type": "markdown",
      "metadata": {
        "id": "zLxMShJHJQIs"
      },
      "source": [
        "## Google Word2Vec \n",
        "\n",
        "Instead of training your own word vectors (which requires a lot of RAM and compute power), you can simply use a pre-trained word embedding. Google has published a pre-trained Word2Vec model that was trained on Google news data (about 100 billion words). It contains 3 million words and phrases and was fit using 300-dimensional word vectors. It is a 1.53 Gigabyte file."
      ]
    },
    {
      "cell_type": "code",
      "metadata": {
        "id": "NLD7sHm1LX_U",
        "colab": {
          "base_uri": "https://localhost:8080/"
        },
        "outputId": "28f9e1ad-5583-4829-e6af-206eba4600c9"
      },
      "source": [
        "# download Google's word embeddings\n",
        "!wget \"https://s3.amazonaws.com/dl4j-distribution/GoogleNews-vectors-negative300.bin.gz\" -O \"GoogleNews-vectors-negative300.bin.gz\" \n",
        "\n",
        "# unzip downloaded word embeddings\n",
        "!gunzip GoogleNews-vectors-negative300.bin.gz  \n",
        "\n",
        "# list files in current directoty\n",
        "!ls -lah  "
      ],
      "execution_count": 4,
      "outputs": [
        {
          "output_type": "stream",
          "text": [
            "--2021-04-17 13:57:24--  https://s3.amazonaws.com/dl4j-distribution/GoogleNews-vectors-negative300.bin.gz\n",
            "Resolving s3.amazonaws.com (s3.amazonaws.com)... 52.216.89.254\n",
            "Connecting to s3.amazonaws.com (s3.amazonaws.com)|52.216.89.254|:443... connected.\n",
            "HTTP request sent, awaiting response... 200 OK\n",
            "Length: 1647046227 (1.5G) [application/x-gzip]\n",
            "Saving to: ‘GoogleNews-vectors-negative300.bin.gz’\n",
            "\n",
            "GoogleNews-vectors- 100%[===================>]   1.53G  33.6MB/s    in 47s     \n",
            "\n",
            "2021-04-17 13:58:12 (33.2 MB/s) - ‘GoogleNews-vectors-negative300.bin.gz’ saved [1647046227/1647046227]\n",
            "\n",
            "total 3.4G\n",
            "drwxr-xr-x 1 root root 4.0K Apr 17 13:58 .\n",
            "drwxr-xr-x 1 root root 4.0K Apr 17 13:56 ..\n",
            "drwxr-xr-x 4 root root 4.0K Apr  7 13:35 .config\n",
            "-rw-r--r-- 1 root root 3.4G Mar  5  2015 GoogleNews-vectors-negative300.bin\n",
            "-rw-r--r-- 1 root root  22K Apr 17 13:57 model.bin\n",
            "drwxr-xr-x 1 root root 4.0K Apr  7 13:36 sample_data\n"
          ],
          "name": "stdout"
        }
      ]
    },
    {
      "cell_type": "code",
      "metadata": {
        "id": "2NpK-fo1JQUq"
      },
      "source": [
        "from gensim.models import KeyedVectors\n",
        "\n",
        "# load the google word2vec model\n",
        "filename = 'GoogleNews-vectors-negative300.bin'\n",
        "model = KeyedVectors.load_word2vec_format(filename, binary=True)"
      ],
      "execution_count": 5,
      "outputs": []
    },
    {
      "cell_type": "markdown",
      "metadata": {
        "id": "8Fl1ZQHJHGIN"
      },
      "source": [
        "#### Let's have fun"
      ]
    },
    {
      "cell_type": "code",
      "metadata": {
        "id": "t3kxqDMymKH_",
        "colab": {
          "base_uri": "https://localhost:8080/"
        },
        "outputId": "a5d0a114-668b-4b7b-bf14-927420cb316b"
      },
      "source": [
        "# get word vector\n",
        "model['car']"
      ],
      "execution_count": 6,
      "outputs": [
        {
          "output_type": "execute_result",
          "data": {
            "text/plain": [
              "array([ 0.13085938,  0.00842285,  0.03344727, -0.05883789,  0.04003906,\n",
              "       -0.14257812,  0.04931641, -0.16894531,  0.20898438,  0.11962891,\n",
              "        0.18066406, -0.25      , -0.10400391, -0.10742188, -0.01879883,\n",
              "        0.05200195, -0.00216675,  0.06445312,  0.14453125, -0.04541016,\n",
              "        0.16113281, -0.01611328, -0.03088379,  0.08447266,  0.16210938,\n",
              "        0.04467773, -0.15527344,  0.25390625,  0.33984375,  0.00756836,\n",
              "       -0.25585938, -0.01733398, -0.03295898,  0.16308594, -0.12597656,\n",
              "       -0.09912109,  0.16503906,  0.06884766, -0.18945312,  0.02832031,\n",
              "       -0.0534668 , -0.03063965,  0.11083984,  0.24121094, -0.234375  ,\n",
              "        0.12353516, -0.00294495,  0.1484375 ,  0.33203125,  0.05249023,\n",
              "       -0.20019531,  0.37695312,  0.12255859,  0.11425781, -0.17675781,\n",
              "        0.10009766,  0.0030365 ,  0.26757812,  0.20117188,  0.03710938,\n",
              "        0.11083984, -0.09814453, -0.3125    ,  0.03515625,  0.02832031,\n",
              "        0.26171875, -0.08642578, -0.02258301, -0.05834961, -0.00787354,\n",
              "        0.11767578, -0.04296875, -0.17285156,  0.04394531, -0.23046875,\n",
              "        0.1640625 , -0.11474609, -0.06030273,  0.01196289, -0.24707031,\n",
              "        0.32617188, -0.04492188, -0.11425781,  0.22851562, -0.01647949,\n",
              "       -0.15039062, -0.13183594,  0.12597656, -0.17480469,  0.02209473,\n",
              "       -0.1015625 ,  0.00817871,  0.10791016, -0.24609375, -0.109375  ,\n",
              "       -0.09375   , -0.01623535, -0.20214844,  0.23144531, -0.05444336,\n",
              "       -0.05541992, -0.20898438,  0.26757812,  0.27929688,  0.17089844,\n",
              "       -0.17578125, -0.02770996, -0.20410156,  0.02392578,  0.03125   ,\n",
              "       -0.25390625, -0.125     , -0.05493164, -0.17382812,  0.28515625,\n",
              "       -0.23242188,  0.0234375 , -0.20117188, -0.13476562,  0.26367188,\n",
              "        0.00769043,  0.20507812, -0.01708984, -0.12988281,  0.04711914,\n",
              "        0.22070312,  0.02099609, -0.29101562, -0.02893066,  0.17285156,\n",
              "        0.04272461, -0.19824219, -0.04003906, -0.16992188,  0.10058594,\n",
              "       -0.09326172,  0.15820312, -0.16503906, -0.06054688,  0.19433594,\n",
              "       -0.07080078, -0.06884766, -0.09619141, -0.07226562,  0.04882812,\n",
              "        0.07324219,  0.11035156,  0.04858398, -0.17675781, -0.33789062,\n",
              "        0.22558594,  0.16308594,  0.05102539, -0.08251953,  0.07958984,\n",
              "        0.08740234, -0.16894531, -0.02160645, -0.19238281,  0.03857422,\n",
              "       -0.05102539,  0.21972656,  0.08007812, -0.21191406, -0.07519531,\n",
              "       -0.15039062,  0.3046875 , -0.17089844,  0.12353516, -0.234375  ,\n",
              "       -0.10742188, -0.06787109,  0.01904297, -0.14160156, -0.22753906,\n",
              "       -0.16308594,  0.14453125, -0.15136719, -0.296875  ,  0.22363281,\n",
              "       -0.10205078, -0.0456543 , -0.21679688, -0.09033203,  0.09375   ,\n",
              "       -0.15332031, -0.01550293,  0.3046875 , -0.23730469,  0.08935547,\n",
              "        0.03710938,  0.02941895, -0.28515625,  0.15820312, -0.00306702,\n",
              "        0.06054688,  0.00497437, -0.15234375, -0.00836182,  0.02197266,\n",
              "       -0.12109375, -0.13867188, -0.2734375 , -0.06835938,  0.08251953,\n",
              "       -0.26367188, -0.16992188,  0.14746094,  0.08496094,  0.02075195,\n",
              "        0.13671875, -0.04931641, -0.0100708 , -0.00369263, -0.10839844,\n",
              "        0.14746094, -0.15527344,  0.16113281,  0.05615234, -0.05004883,\n",
              "       -0.1640625 , -0.26953125,  0.4140625 ,  0.06079102, -0.046875  ,\n",
              "       -0.02514648,  0.10595703,  0.1328125 , -0.16699219, -0.04907227,\n",
              "        0.04663086,  0.05151367, -0.07958984, -0.16503906, -0.29882812,\n",
              "        0.06054688, -0.15332031, -0.00598145,  0.06640625, -0.04516602,\n",
              "        0.24316406, -0.07080078, -0.36914062, -0.23144531, -0.11914062,\n",
              "       -0.08300781,  0.14746094, -0.05761719,  0.23535156, -0.12304688,\n",
              "        0.14648438,  0.13671875,  0.15429688,  0.02111816, -0.09570312,\n",
              "        0.05859375,  0.03979492, -0.08105469,  0.0559082 , -0.16601562,\n",
              "        0.27148438, -0.20117188, -0.00915527,  0.07324219,  0.10449219,\n",
              "        0.34570312, -0.26367188,  0.02099609, -0.40039062, -0.03417969,\n",
              "       -0.15917969, -0.08789062,  0.08203125,  0.23339844,  0.0213623 ,\n",
              "       -0.11328125,  0.05249023, -0.10449219, -0.02380371, -0.08349609,\n",
              "       -0.04003906,  0.01916504, -0.01226807, -0.18261719, -0.06787109,\n",
              "       -0.08496094, -0.03039551, -0.05395508,  0.04248047,  0.12792969,\n",
              "       -0.27539062,  0.28515625, -0.04736328,  0.06494141, -0.11230469,\n",
              "       -0.02575684, -0.04125977,  0.22851562, -0.14941406, -0.15039062],\n",
              "      dtype=float32)"
            ]
          },
          "metadata": {
            "tags": []
          },
          "execution_count": 6
        }
      ]
    },
    {
      "cell_type": "code",
      "metadata": {
        "id": "hAgKecjUmW_s",
        "colab": {
          "base_uri": "https://localhost:8080/"
        },
        "outputId": "0126b44e-dc29-4135-eab7-34754ef520f7"
      },
      "source": [
        "# get most similar words\n",
        "model.most_similar('yellow')"
      ],
      "execution_count": 7,
      "outputs": [
        {
          "output_type": "execute_result",
          "data": {
            "text/plain": [
              "[('red', 0.751919150352478),\n",
              " ('bright_yellow', 0.6869138479232788),\n",
              " ('orange', 0.6421886682510376),\n",
              " ('blue', 0.6376121044158936),\n",
              " ('purple', 0.6272757053375244),\n",
              " ('yellows', 0.612633228302002),\n",
              " ('pink', 0.6098285913467407),\n",
              " ('bright_orange', 0.5974606871604919),\n",
              " ('Warplanes_streaked_overhead', 0.583052396774292),\n",
              " ('participant_LOGIN', 0.5816755294799805)]"
            ]
          },
          "metadata": {
            "tags": []
          },
          "execution_count": 7
        }
      ]
    },
    {
      "cell_type": "code",
      "metadata": {
        "id": "bN2VuE5UmPUm",
        "colab": {
          "base_uri": "https://localhost:8080/"
        },
        "outputId": "0cbe54f9-88a4-4b5e-f6d0-9f6a11cf0d12"
      },
      "source": [
        "# queen = (king - man) + woman\n",
        "result = model.most_similar(positive=['woman', 'king'], negative=['man'], topn=1)\n",
        "print(result)"
      ],
      "execution_count": 8,
      "outputs": [
        {
          "output_type": "stream",
          "text": [
            "[('queen', 0.7118192911148071)]\n"
          ],
          "name": "stdout"
        }
      ]
    },
    {
      "cell_type": "code",
      "metadata": {
        "id": "QhmQmasBmi2x",
        "colab": {
          "base_uri": "https://localhost:8080/"
        },
        "outputId": "7dc45ef7-c4e8-4676-fac5-f39789c53481"
      },
      "source": [
        "# (france - paris) + spain = ?\n",
        "result = model.most_similar(positive=[\"paris\",\"spain\"], negative=[\"france\"], topn=1)\n",
        "print(result)"
      ],
      "execution_count": 9,
      "outputs": [
        {
          "output_type": "stream",
          "text": [
            "[('madrid', 0.5295541286468506)]\n"
          ],
          "name": "stdout"
        }
      ]
    },
    {
      "cell_type": "code",
      "metadata": {
        "id": "w91o81Slm3aY",
        "colab": {
          "base_uri": "https://localhost:8080/",
          "height": 91
        },
        "outputId": "f753632f-7459-49bf-9ff4-540400361249"
      },
      "source": [
        "model.doesnt_match([\"red\", \"blue\", \"car\", \"orange\"])\n"
      ],
      "execution_count": 10,
      "outputs": [
        {
          "output_type": "stream",
          "text": [
            "/usr/local/lib/python3.7/dist-packages/gensim/models/keyedvectors.py:895: FutureWarning: arrays to stack must be passed as a \"sequence\" type such as list or tuple. Support for non-sequence iterables such as generators is deprecated as of NumPy 1.16 and will raise an error in the future.\n",
            "  vectors = vstack(self.word_vec(word, use_norm=True) for word in used_words).astype(REAL)\n"
          ],
          "name": "stderr"
        },
        {
          "output_type": "execute_result",
          "data": {
            "application/vnd.google.colaboratory.intrinsic+json": {
              "type": "string"
            },
            "text/plain": [
              "'car'"
            ]
          },
          "metadata": {
            "tags": []
          },
          "execution_count": 10
        }
      ]
    },
    {
      "cell_type": "markdown",
      "metadata": {
        "id": "HR-cJcT-J9Xq"
      },
      "source": [
        "## Stanford’s GloVe Embedding\n",
        "\n",
        "Like Word2Vec, the GloVe researchers also provide pre-trained word vectors. Let's download the smallest GloVe pre-trained model from the GloVe website. It's a 822 Megabyte zip file with 4 different models (50, 100, 200 and 300-dimensional vectors) trained on Wikipedia data with 6 billion tokens and a 400,000 word vocabulary."
      ]
    },
    {
      "cell_type": "code",
      "metadata": {
        "id": "l9WwmofxIIQJ",
        "colab": {
          "base_uri": "https://localhost:8080/"
        },
        "outputId": "192b05a8-f8db-4cff-c8aa-fa0360a005e5"
      },
      "source": [
        "# download \n",
        "!wget http://nlp.stanford.edu/data/glove.6B.zip \n",
        "\n",
        "# unzip downloaded word embeddings\n",
        "!unzip glove.6B.zip  \n",
        "\n",
        "# list files in current directoty\n",
        "!ls -lah  \n"
      ],
      "execution_count": 11,
      "outputs": [
        {
          "output_type": "stream",
          "text": [
            "--2021-04-17 14:02:19--  http://nlp.stanford.edu/data/glove.6B.zip\n",
            "Resolving nlp.stanford.edu (nlp.stanford.edu)... 171.64.67.140\n",
            "Connecting to nlp.stanford.edu (nlp.stanford.edu)|171.64.67.140|:80... connected.\n",
            "HTTP request sent, awaiting response... 302 Found\n",
            "Location: https://nlp.stanford.edu/data/glove.6B.zip [following]\n",
            "--2021-04-17 14:02:20--  https://nlp.stanford.edu/data/glove.6B.zip\n",
            "Connecting to nlp.stanford.edu (nlp.stanford.edu)|171.64.67.140|:443... connected.\n",
            "HTTP request sent, awaiting response... 301 Moved Permanently\n",
            "Location: http://downloads.cs.stanford.edu/nlp/data/glove.6B.zip [following]\n",
            "--2021-04-17 14:02:21--  http://downloads.cs.stanford.edu/nlp/data/glove.6B.zip\n",
            "Resolving downloads.cs.stanford.edu (downloads.cs.stanford.edu)... 171.64.64.22\n",
            "Connecting to downloads.cs.stanford.edu (downloads.cs.stanford.edu)|171.64.64.22|:80... connected.\n",
            "HTTP request sent, awaiting response... 200 OK\n",
            "Length: 862182613 (822M) [application/zip]\n",
            "Saving to: ‘glove.6B.zip’\n",
            "\n",
            "glove.6B.zip        100%[===================>] 822.24M  5.19MB/s    in 2m 43s  \n",
            "\n",
            "2021-04-17 14:05:04 (5.03 MB/s) - ‘glove.6B.zip’ saved [862182613/862182613]\n",
            "\n",
            "Archive:  glove.6B.zip\n",
            "  inflating: glove.6B.50d.txt        \n",
            "  inflating: glove.6B.100d.txt       \n",
            "  inflating: glove.6B.200d.txt       \n",
            "  inflating: glove.6B.300d.txt       \n",
            "total 6.3G\n",
            "drwxr-xr-x 1 root root 4.0K Apr 17 14:05 .\n",
            "drwxr-xr-x 1 root root 4.0K Apr 17 13:56 ..\n",
            "drwxr-xr-x 4 root root 4.0K Apr  7 13:35 .config\n",
            "-rw-rw-r-- 1 root root 332M Aug  4  2014 glove.6B.100d.txt\n",
            "-rw-rw-r-- 1 root root 662M Aug  4  2014 glove.6B.200d.txt\n",
            "-rw-rw-r-- 1 root root 990M Aug 27  2014 glove.6B.300d.txt\n",
            "-rw-rw-r-- 1 root root 164M Aug  4  2014 glove.6B.50d.txt\n",
            "-rw-r--r-- 1 root root 823M Oct 25  2015 glove.6B.zip\n",
            "-rw-r--r-- 1 root root 3.4G Mar  5  2015 GoogleNews-vectors-negative300.bin\n",
            "-rw-r--r-- 1 root root  22K Apr 17 13:57 model.bin\n",
            "drwxr-xr-x 1 root root 4.0K Apr  7 13:36 sample_data\n"
          ],
          "name": "stdout"
        }
      ]
    },
    {
      "cell_type": "code",
      "metadata": {
        "id": "CsXwAaiwI_1P"
      },
      "source": [
        "from gensim.models import KeyedVectors\n",
        "from gensim.scripts.glove2word2vec import glove2word2vec\n",
        "\n",
        "# convert the 100-dimensional version of the glove model to word2vec format\n",
        "glove_input_file = 'glove.6B.100d.txt'\n",
        "word2vec_output_file = 'glove.6B.100d.txt.word2vec'\n",
        "glove2word2vec(glove_input_file, word2vec_output_file)\n",
        "\n",
        "# load the converted model\n",
        "filename = 'glove.6B.100d.txt.word2vec'\n",
        "model = KeyedVectors.load_word2vec_format(filename, binary=False)"
      ],
      "execution_count": 12,
      "outputs": []
    },
    {
      "cell_type": "code",
      "metadata": {
        "id": "MrEe17hdJEqB",
        "colab": {
          "base_uri": "https://localhost:8080/"
        },
        "outputId": "0959d077-ecca-4873-d03e-4d8133553eba"
      },
      "source": [
        "# calculate: (king - man) + woman = ?\n",
        "result = model.most_similar(positive=['woman', 'king'], negative=['man'], topn=1)\n",
        "print(result)"
      ],
      "execution_count": 13,
      "outputs": [
        {
          "output_type": "stream",
          "text": [
            "[('queen', 0.7698541283607483)]\n"
          ],
          "name": "stdout"
        }
      ]
    }
  ]
}