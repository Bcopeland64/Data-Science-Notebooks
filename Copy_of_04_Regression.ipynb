{
  "nbformat": 4,
  "nbformat_minor": 0,
  "metadata": {
    "colab": {
      "name": "Copy of 04_Regression",
      "provenance": [],
      "collapsed_sections": [],
      "toc_visible": true,
      "include_colab_link": true
    },
    "kernelspec": {
      "name": "python3",
      "display_name": "Python 3"
    }
  },
  "cells": [
    {
      "cell_type": "markdown",
      "metadata": {
        "id": "view-in-github",
        "colab_type": "text"
      },
      "source": [
        "<a href=\"https://colab.research.google.com/github/Bcopeland64/Data-Science-Notebooks/blob/master/Copy_of_04_Regression.ipynb\" target=\"_parent\"><img src=\"https://colab.research.google.com/assets/colab-badge.svg\" alt=\"Open In Colab\"/></a>"
      ]
    },
    {
      "cell_type": "markdown",
      "metadata": {
        "id": "2jlKITSzuNeA"
      },
      "source": [
        "© 2021 Zaka AI, Inc. All Rights Reserved"
      ]
    },
    {
      "cell_type": "markdown",
      "metadata": {
        "id": "NP0SbsvDaZ-b"
      },
      "source": [
        "#Regression\n",
        "**Objective:** In this notebook exercise, we will work in the Boston House Price dataset to predict through regression the price of houses in thousand of dollars. \n",
        "We will load the data, create a baseline model, train and evaluate it to predict with it and finally alter the performance of our model by standardizing our dataset and trying out wider and/or deeper network topologies."
      ]
    },
    {
      "cell_type": "markdown",
      "metadata": {
        "id": "6PH_opY2bazW"
      },
      "source": [
        "### Importing the data from the github repository"
      ]
    },
    {
      "cell_type": "code",
      "metadata": {
        "id": "BwHKJzETO-yC",
        "colab": {
          "base_uri": "https://localhost:8080/"
        },
        "outputId": "6d11e4ee-7c4d-4060-d280-4c26716e7c7a"
      },
      "source": [
        "# clone git repo\n",
        "!git clone https://github.com/zaka-ai/intro2dl.git\n",
        "\n",
        "# change directory\n",
        "%cd intro2dl/data/"
      ],
      "execution_count": 1,
      "outputs": [
        {
          "output_type": "stream",
          "text": [
            "Cloning into 'intro2dl'...\n",
            "remote: Enumerating objects: 16, done.\u001b[K\n",
            "remote: Counting objects: 100% (16/16), done.\u001b[K\n",
            "remote: Compressing objects: 100% (15/15), done.\u001b[K\n",
            "remote: Total 16 (delta 1), reused 7 (delta 0), pack-reused 0\u001b[K\n",
            "Unpacking objects: 100% (16/16), done.\n",
            "/content/intro2dl/data\n"
          ],
          "name": "stdout"
        }
      ]
    },
    {
      "cell_type": "markdown",
      "metadata": {
        "id": "zge93uqARUlY"
      },
      "source": [
        "## Regression with Boston House Price dataset\n",
        "\n",
        "### 1. Load data\n",
        "\n",
        "In this notebook, we are going to use the [**Boston house price dataset** dataset](https://archive.ics.uci.edu/ml/datasets/Housing). \n",
        "\n",
        "The dataset describes 13 numerical properties of houses in Boston suburbs and is concerned with modeling the price of houses in those suburbs in thousands of dollars. As such, this is a regression predictive modeling problem. Input attributes include things like crime rate, proportion of nonretail business acres, chemical concentrations and more.\n",
        "\n"
      ]
    },
    {
      "cell_type": "code",
      "metadata": {
        "id": "S7faz-YVRRYW"
      },
      "source": [
        "from pandas import read_csv\n",
        "\n",
        "# load dataset\n",
        "dataframe = read_csv(\"housing.csv\", delim_whitespace=True, header=None)\n",
        "dataset = dataframe.values\n",
        "\n",
        "# split into input (X) and output (Y) variables\n",
        "X = dataset[:,0:13]\n",
        "Y = dataset[:,13]"
      ],
      "execution_count": 2,
      "outputs": []
    },
    {
      "cell_type": "markdown",
      "metadata": {
        "id": "X79HF3ZdSBjF"
      },
      "source": [
        "### 2. Define Base Model\n",
        "\n",
        "Create a Keras model with 1 hidden layer (size = input layer size).\n",
        "\n",
        "We should define a `baseline_model()` funtion that will create the model, compile it and return it."
      ]
    },
    {
      "cell_type": "code",
      "metadata": {
        "id": "HAYRmljaSBcE"
      },
      "source": [
        "from tensorflow.keras.models import Sequential\n",
        "from tensorflow.keras.layers import Dense\n",
        "\n",
        "# define baseline model\n",
        "def baseline_model():\n",
        "# FILL BLANKS\n",
        "# build the model\n",
        "  model = Sequential()\n",
        "  model.add(Dense(13, input_dim=13, activation=\"relu\"))\n",
        "  model.add(Dense(1, activation=\"linear\"))\n",
        "\n",
        "#compile the model\n",
        "  model.compile(optimizer=\"adam\", loss=\"mean_squared_error\")\n",
        "  return model "
      ],
      "execution_count": 6,
      "outputs": []
    },
    {
      "cell_type": "markdown",
      "metadata": {
        "id": "jtuQxqLWSdq6"
      },
      "source": [
        "### 3. Evaluate baseline model\n",
        "\n",
        "Evaluate the model using stratified cross validation in the scikit-learn framework. Number of splits should be 10. "
      ]
    },
    {
      "cell_type": "code",
      "metadata": {
        "id": "pPRh8GcySXRc",
        "colab": {
          "base_uri": "https://localhost:8080/"
        },
        "outputId": "0eb4217c-7de0-4c94-8a5a-cc22f6fc0c06"
      },
      "source": [
        "from tensorflow.keras.wrappers.scikit_learn import KerasRegressor\n",
        "from sklearn.model_selection import cross_val_score\n",
        "from sklearn.model_selection import KFold\n",
        "\n",
        "# evaluate model\n",
        "estimator = KerasRegressor(build_fn=baseline_model, epochs=10, batch_size=5, verbose=0)\n",
        "kfold = KFold(n_splits=10, random_state=42)\n",
        "results = cross_val_score(estimator, X, Y, cv=kfold)\n",
        "print(\"Baseline: %.2f (%.2f) MSE\" % (results.mean(), results.std()))"
      ],
      "execution_count": 7,
      "outputs": [
        {
          "output_type": "stream",
          "text": [
            "/usr/local/lib/python3.7/dist-packages/sklearn/model_selection/_split.py:296: FutureWarning: Setting a random_state has no effect since shuffle is False. This will raise an error in 0.24. You should leave random_state to its default (None), or set shuffle=True.\n",
            "  FutureWarning\n"
          ],
          "name": "stderr"
        },
        {
          "output_type": "stream",
          "text": [
            "Baseline: -102.16 (71.50) MSE\n"
          ],
          "name": "stdout"
        }
      ]
    },
    {
      "cell_type": "markdown",
      "metadata": {
        "id": "f-wSXuEETZP-"
      },
      "source": [
        "## Lift Performance By Standardizing The Dataset\n",
        "Standardizing the dataset referes to transforming all datapoints values to the range of 0 to 1. This is done using `scikit-learn`'s StandardScaler. We will also build a pipeline which will call the function creating the model, then compile and training it. The last step is to evaluate the performance of the model using cross-validation. This will show us whether standardizing a dataset betters the performance of a deep learning model."
      ]
    },
    {
      "cell_type": "code",
      "metadata": {
        "id": "hWL2SwgiThyc",
        "colab": {
          "base_uri": "https://localhost:8080/"
        },
        "outputId": "e03707ae-fb30-44ea-98fb-5eda6a9c6cab"
      },
      "source": [
        "from sklearn.preprocessing import StandardScaler\n",
        "from sklearn.pipeline import Pipeline\n",
        "\n",
        "# evaluate baseline model with standardized dataset\n",
        "estimators = []\n",
        "estimators.append(('standardize', StandardScaler()))\n",
        "estimators.append(('mlp', KerasRegressor(build_fn=baseline_model, epochs=10, batch_size=5, verbose=0)))\n",
        "\n",
        "pipeline = Pipeline(estimators)\n",
        "kfold = KFold(n_splits=10, shuffle=True, random_state=42)\n",
        "results = cross_val_score(pipeline, X, Y, cv=kfold)\n",
        "print(\"Standarized: %.2f (%.2f) MSE\" % (results.mean(), results.std()))"
      ],
      "execution_count": 8,
      "outputs": [
        {
          "output_type": "stream",
          "text": [
            "Standarized: -59.94 (20.57) MSE\n"
          ],
          "name": "stdout"
        }
      ]
    },
    {
      "cell_type": "markdown",
      "metadata": {
        "id": "7KqRL6cUTwvs"
      },
      "source": [
        "## Tune The Neural Network Topology\n",
        "We can alter the architecture of the hidden layers of the neural network to observe changes in the results we get."
      ]
    },
    {
      "cell_type": "markdown",
      "metadata": {
        "id": "7rAzSWHCbvAt"
      },
      "source": [
        "### Evaluate a wider network\n",
        "A wider network is a network where the hidden layer has more neurons than it previously had. Let's create a network which has 25 neurons in the hidden layer instead of thirteen. So, almost double."
      ]
    },
    {
      "cell_type": "code",
      "metadata": {
        "id": "On0KRd4TTrmD"
      },
      "source": [
        "def wider_model():\n",
        "\n",
        "    model = Sequential()\n",
        "    model.add(Dense(25, input_dim=13, activation=\"relu\"))\n",
        "    model.add(Dense(1, activation=\"linear\"))\n",
        "\n",
        "\n",
        "    model.compile(optimizer=\"sgd\", loss=\"mean_squared_error\")\n",
        "    return model \n",
        "\n",
        "\n"
      ],
      "execution_count": 15,
      "outputs": []
    },
    {
      "cell_type": "markdown",
      "metadata": {
        "id": "S3zhESl1cb16"
      },
      "source": [
        "Next up, standardizing the dataset and using the pipeline to build, compile and train the model to get the score of this wider network."
      ]
    },
    {
      "cell_type": "code",
      "metadata": {
        "id": "NJR72K2IUDb6",
        "colab": {
          "base_uri": "https://localhost:8080/"
        },
        "outputId": "7c9eaeab-4551-4175-a81b-8a216658b870"
      },
      "source": [
        "from sklearn.preprocessing import StandardScaler\n",
        "from sklearn.pipeline import Pipeline\n",
        "\n",
        "# evaluate baseline model with standardized dataset\n",
        "# FILL BLANKS\n",
        "# pipeline\n",
        "pipeline = Pipeline(estimators)\n",
        "kfold = KFold(n_splits=10, shuffle=True, random_state=42)\n",
        "results = cross_val_score(pipeline, X, Y, cv=kfold)\n",
        "print(\"Standarized: %.2f (%.2f) MSE\" % (results.mean(), results.std()))\n",
        "\n",
        "\n",
        "# evaluation\n",
        "estimators = []\n",
        "estimators.append(('standardize', StandardScaler()))\n",
        "estimators.append(('mlp', KerasRegressor(build_fn=baseline_model, epochs=10, batch_size=5, verbose=0)))\n",
        "\n"
      ],
      "execution_count": 16,
      "outputs": [
        {
          "output_type": "stream",
          "text": [
            "Standarized: -58.26 (15.35) MSE\n"
          ],
          "name": "stdout"
        }
      ]
    },
    {
      "cell_type": "markdown",
      "metadata": {
        "id": "PJFKgHmjT0TL"
      },
      "source": [
        "### Evaluate a deeper network\n",
        "A deeper network is a network which has more hidden layers than the previous baseline network. Let's add another hidden layer for a total of two hidden layers with 13 neurons each and check the results we get."
      ]
    },
    {
      "cell_type": "code",
      "metadata": {
        "id": "eb_3D9InTz70"
      },
      "source": [
        "def deeper_model():\n",
        "  model = Sequential()\n",
        "  model.add(Dense(25, input_dim=13, activation=\"relu\"))\n",
        "  model.add(Dense(10, input_dim=13, activation=\"relu\"))\n",
        "  model.add(Dense(1, activation=\"linear\"))\n",
        "\n",
        "\n",
        "  model.compile(optimizer=\"sgd\", loss=\"mean_squared_error\")\n",
        "  return model \n"
      ],
      "execution_count": 19,
      "outputs": []
    },
    {
      "cell_type": "markdown",
      "metadata": {
        "id": "jNJwqfKLdpl3"
      },
      "source": [
        "Standardizing the dataset and using the pipeline to build, compile and train the model to get the score of this wider network."
      ]
    },
    {
      "cell_type": "code",
      "metadata": {
        "id": "Dgg0TGhRURIB",
        "colab": {
          "base_uri": "https://localhost:8080/"
        },
        "outputId": "a6a91ea6-11dd-40be-90df-dc01540b87a1"
      },
      "source": [
        "from sklearn.preprocessing import StandardScaler\n",
        "from sklearn.pipeline import Pipeline\n",
        "\n",
        "pipeline = Pipeline(estimators)\n",
        "kfold = KFold(n_splits=10, shuffle=True, random_state=42)\n",
        "results = cross_val_score(pipeline, X, Y, cv=kfold)\n",
        "print(\"Standarized: %.2f (%.2f) MSE\" % (results.mean(), results.std()))\n",
        "\n",
        "\n",
        "# evaluation\n",
        "estimators = []\n",
        "estimators.append(('standardize', StandardScaler()))\n",
        "estimators.append(('mlp', KerasRegressor(build_fn=baseline_model, epochs=10, batch_size=5, verbose=0)))\n"
      ],
      "execution_count": 20,
      "outputs": [
        {
          "output_type": "stream",
          "text": [
            "Standarized: -78.83 (45.81) MSE\n"
          ],
          "name": "stdout"
        }
      ]
    }
  ]
}