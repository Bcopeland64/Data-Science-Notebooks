{
  "nbformat": 4,
  "nbformat_minor": 0,
  "metadata": {
    "colab": {
      "name": "Copy of 00_data_preprocessing",
      "provenance": [],
      "collapsed_sections": [],
      "toc_visible": true,
      "include_colab_link": true
    },
    "kernelspec": {
      "name": "python3",
      "display_name": "Python 3"
    }
  },
  "cells": [
    {
      "cell_type": "markdown",
      "metadata": {
        "id": "view-in-github",
        "colab_type": "text"
      },
      "source": [
        "<a href=\"https://colab.research.google.com/github/Bcopeland64/Data-Science-Notebooks/blob/master/Copy_of_00_data_preprocessing.ipynb\" target=\"_parent\"><img src=\"https://colab.research.google.com/assets/colab-badge.svg\" alt=\"Open In Colab\"/></a>"
      ]
    },
    {
      "cell_type": "markdown",
      "metadata": {
        "id": "Nz3dxIcRqpqr"
      },
      "source": [
        "© 2021 Zaka AI, Inc. All Rights Reserved"
      ]
    },
    {
      "cell_type": "markdown",
      "metadata": {
        "id": "_ZcQeG5JrQh3"
      },
      "source": [
        "# Text Cleaning\n",
        "\n",
        "This collab will show you how to clean your data in preparation for the NLP.\n",
        "In the first section, we will be using built-in python functions as for the second, we will introduce NLTK libraries."
      ]
    },
    {
      "cell_type": "markdown",
      "metadata": {
        "id": "ncABV7ZV4RlI"
      },
      "source": [
        "---"
      ]
    },
    {
      "cell_type": "markdown",
      "metadata": {
        "id": "B4C6w-3Hy2LJ"
      },
      "source": [
        "###Split by white space\n",
        "\n",
        "Splitting a document or text by word.\n",
        "Applying split() with no input parameters calls the function to split text by looking at white spaces only. \"Who's\" for example is considered an entire word."
      ]
    },
    {
      "cell_type": "code",
      "metadata": {
        "id": "L5nBPnVfUQms",
        "colab": {
          "base_uri": "https://localhost:8080/"
        },
        "outputId": "5f367e16-1da8-46fd-8854-6f4dddf788b3"
      },
      "source": [
        "text = 'Albert Einstein is widely celebrated as one of the most brilliant scientists who’s ever lived. His fame was due to his original and creative theories that at first seemed crazy, but that later turned out to represent the actual physical world.  Nonetheless, when he applied his theory of general relativity to the universe as a whole in a paper published in 1917, while serving as Director of the Kaiser Wilhelm Institute for Physics and professor at the University of Berlin, Einstein suggested the notion of a \"cosmological constant\". He discarded this notion when it had been established that the universe was indeed expanding. His contributions to physics made it possible to envision how the universe evolved.'\\\n",
        "      'In order to understand Einstein’s contribution to cosmology it is helpful to begin with his theory of gravity. Rather than thinking of gravity as an attractive force between two objects, in the tradition of Isaac Newton, Einstein’s conception was that gravity is a property of massive objects that “bends” space and time around itself. For example, consider the question of why the Moon does not fly off into space, rather than staying in orbit around Earth. Newton would say that gravity is a force acting between the Earth and Moon, holding it in orbit. Einstein would say that the massive Earth “bends” space and time around itself, so that the moon follows the curves created by the massive Earth. His theory was confirmed when he predicted that even starlight would bend when passing near the sun during a solar eclipse.'\\\n",
        "      'In 1917 Einstein published a paper in which he applied this theory to all matter in space. His theory led to the conclusion that all the mass in the universe would bend space so much that it should have long ago contracted into a single dense blob. Given that the universe seems pretty well spread out, however, and does not seem to be contracting, Einstein decided to add a “fudge factor,” that acts like “anti-gravity” and prevents the universe from collapsing. He called this idea, which was represented as an additional term in the mathematical equation representing his theory of gravity, the cosmological constant. In other words, Einstein supposed the universe to be static and unchanging, because that is the way it looked to astronomers in 1917.'\n",
        "\n",
        "# split into words by white space \n",
        "words = text.split() \n",
        "print(words[:100])"
      ],
      "execution_count": 1,
      "outputs": [
        {
          "output_type": "stream",
          "text": [
            "['Albert', 'Einstein', 'is', 'widely', 'celebrated', 'as', 'one', 'of', 'the', 'most', 'brilliant', 'scientists', 'who’s', 'ever', 'lived.', 'His', 'fame', 'was', 'due', 'to', 'his', 'original', 'and', 'creative', 'theories', 'that', 'at', 'first', 'seemed', 'crazy,', 'but', 'that', 'later', 'turned', 'out', 'to', 'represent', 'the', 'actual', 'physical', 'world.', 'Nonetheless,', 'when', 'he', 'applied', 'his', 'theory', 'of', 'general', 'relativity', 'to', 'the', 'universe', 'as', 'a', 'whole', 'in', 'a', 'paper', 'published', 'in', '1917,', 'while', 'serving', 'as', 'Director', 'of', 'the', 'Kaiser', 'Wilhelm', 'Institute', 'for', 'Physics', 'and', 'professor', 'at', 'the', 'University', 'of', 'Berlin,', 'Einstein', 'suggested', 'the', 'notion', 'of', 'a', '\"cosmological', 'constant\".', 'He', 'discarded', 'this', 'notion', 'when', 'it', 'had', 'been', 'established', 'that', 'the', 'universe']\n"
          ],
          "name": "stdout"
        }
      ]
    },
    {
      "cell_type": "markdown",
      "metadata": {
        "id": "j1nCWZyjzD81"
      },
      "source": [
        "### Split by word\n",
        "\n",
        "Using regular expression re and splitting based on words. Notice the difference in \"who's\"."
      ]
    },
    {
      "cell_type": "code",
      "metadata": {
        "id": "0nja7dzcyDNF",
        "colab": {
          "base_uri": "https://localhost:8080/"
        },
        "outputId": "02424bf1-5416-44f2-c3d4-c000a4d4f57b"
      },
      "source": [
        "import re\n",
        "\n",
        "# split based on words only\n",
        "words = re.split(r'\\W+', text) \n",
        "print(words[:100])"
      ],
      "execution_count": 2,
      "outputs": [
        {
          "output_type": "stream",
          "text": [
            "['Albert', 'Einstein', 'is', 'widely', 'celebrated', 'as', 'one', 'of', 'the', 'most', 'brilliant', 'scientists', 'who', 's', 'ever', 'lived', 'His', 'fame', 'was', 'due', 'to', 'his', 'original', 'and', 'creative', 'theories', 'that', 'at', 'first', 'seemed', 'crazy', 'but', 'that', 'later', 'turned', 'out', 'to', 'represent', 'the', 'actual', 'physical', 'world', 'Nonetheless', 'when', 'he', 'applied', 'his', 'theory', 'of', 'general', 'relativity', 'to', 'the', 'universe', 'as', 'a', 'whole', 'in', 'a', 'paper', 'published', 'in', '1917', 'while', 'serving', 'as', 'Director', 'of', 'the', 'Kaiser', 'Wilhelm', 'Institute', 'for', 'Physics', 'and', 'professor', 'at', 'the', 'University', 'of', 'Berlin', 'Einstein', 'suggested', 'the', 'notion', 'of', 'a', 'cosmological', 'constant', 'He', 'discarded', 'this', 'notion', 'when', 'it', 'had', 'been', 'established', 'that', 'the']\n"
          ],
          "name": "stdout"
        }
      ]
    },
    {
      "cell_type": "markdown",
      "metadata": {
        "id": "zGy82Z14zwzT"
      },
      "source": [
        "### Normalizing case\n",
        "\n",
        "Normalizing is when we turn all the words of the document into lower case. Careful however not always employing this method because it might change the entire meaning. For example take the French telecom company Orange and the fruit orange. Normalizing would change the entire meaning."
      ]
    },
    {
      "cell_type": "code",
      "metadata": {
        "id": "KX-qZxxBzMKT",
        "colab": {
          "base_uri": "https://localhost:8080/"
        },
        "outputId": "43fabb5d-6c56-4429-c9fd-9da818f9999d"
      },
      "source": [
        "# split into words by white space\n",
        "words = text.split()\n",
        "\n",
        "# convert to lower case\n",
        "words = [word.lower() for word in words] \n",
        "print(words[:100])"
      ],
      "execution_count": 3,
      "outputs": [
        {
          "output_type": "stream",
          "text": [
            "['albert', 'einstein', 'is', 'widely', 'celebrated', 'as', 'one', 'of', 'the', 'most', 'brilliant', 'scientists', 'who’s', 'ever', 'lived.', 'his', 'fame', 'was', 'due', 'to', 'his', 'original', 'and', 'creative', 'theories', 'that', 'at', 'first', 'seemed', 'crazy,', 'but', 'that', 'later', 'turned', 'out', 'to', 'represent', 'the', 'actual', 'physical', 'world.', 'nonetheless,', 'when', 'he', 'applied', 'his', 'theory', 'of', 'general', 'relativity', 'to', 'the', 'universe', 'as', 'a', 'whole', 'in', 'a', 'paper', 'published', 'in', '1917,', 'while', 'serving', 'as', 'director', 'of', 'the', 'kaiser', 'wilhelm', 'institute', 'for', 'physics', 'and', 'professor', 'at', 'the', 'university', 'of', 'berlin,', 'einstein', 'suggested', 'the', 'notion', 'of', 'a', '\"cosmological', 'constant\".', 'he', 'discarded', 'this', 'notion', 'when', 'it', 'had', 'been', 'established', 'that', 'the', 'universe']\n"
          ],
          "name": "stdout"
        }
      ]
    },
    {
      "cell_type": "markdown",
      "metadata": {
        "id": "_LVpZgMF0PAc"
      },
      "source": [
        "# NLTK\n",
        "\n",
        "The Natural Language Toolkit is a suite of libraries and programs for symbolic and statistical natural language processing for English, written in the Python programming language. *(Wikipedia)*\n",
        "\n"
      ]
    },
    {
      "cell_type": "markdown",
      "metadata": {
        "id": "kIbzFZArGKKB"
      },
      "source": [
        "### Split into sentences\n",
        "\n",
        "This tokenizer divides a text into a list of sentences by using an unsupervised algorithm to build a model for abbreviation words, collocations, and words that start sentences. It must be trained on a large collection of plaintext in the target language before it can be used.\n",
        "\n",
        "The NLTK data package includes a pre-trained Punkt tokenizer for English. *(nltk.org)*"
      ]
    },
    {
      "cell_type": "code",
      "metadata": {
        "id": "gud_Lu2o0Uv3",
        "colab": {
          "base_uri": "https://localhost:8080/"
        },
        "outputId": "e5c70702-aec0-444b-9235-2bb9cf0c5f33"
      },
      "source": [
        "import nltk\n",
        "from nltk import sent_tokenize\n",
        "nltk.download('punkt')\n",
        "\n",
        "# split into sentences\n",
        "sentences = sent_tokenize(text)\n",
        "for sentence in sentences:\n",
        "  print(sentence)\n"
      ],
      "execution_count": 4,
      "outputs": [
        {
          "output_type": "stream",
          "text": [
            "[nltk_data] Downloading package punkt to /root/nltk_data...\n",
            "[nltk_data]   Unzipping tokenizers/punkt.zip.\n",
            "Albert Einstein is widely celebrated as one of the most brilliant scientists who’s ever lived.\n",
            "His fame was due to his original and creative theories that at first seemed crazy, but that later turned out to represent the actual physical world.\n",
            "Nonetheless, when he applied his theory of general relativity to the universe as a whole in a paper published in 1917, while serving as Director of the Kaiser Wilhelm Institute for Physics and professor at the University of Berlin, Einstein suggested the notion of a \"cosmological constant\".\n",
            "He discarded this notion when it had been established that the universe was indeed expanding.\n",
            "His contributions to physics made it possible to envision how the universe evolved.In order to understand Einstein’s contribution to cosmology it is helpful to begin with his theory of gravity.\n",
            "Rather than thinking of gravity as an attractive force between two objects, in the tradition of Isaac Newton, Einstein’s conception was that gravity is a property of massive objects that “bends” space and time around itself.\n",
            "For example, consider the question of why the Moon does not fly off into space, rather than staying in orbit around Earth.\n",
            "Newton would say that gravity is a force acting between the Earth and Moon, holding it in orbit.\n",
            "Einstein would say that the massive Earth “bends” space and time around itself, so that the moon follows the curves created by the massive Earth.\n",
            "His theory was confirmed when he predicted that even starlight would bend when passing near the sun during a solar eclipse.In 1917 Einstein published a paper in which he applied this theory to all matter in space.\n",
            "His theory led to the conclusion that all the mass in the universe would bend space so much that it should have long ago contracted into a single dense blob.\n",
            "Given that the universe seems pretty well spread out, however, and does not seem to be contracting, Einstein decided to add a “fudge factor,” that acts like “anti-gravity” and prevents the universe from collapsing.\n",
            "He called this idea, which was represented as an additional term in the mathematical equation representing his theory of gravity, the cosmological constant.\n",
            "In other words, Einstein supposed the universe to be static and unchanging, because that is the way it looked to astronomers in 1917.\n"
          ],
          "name": "stdout"
        }
      ]
    },
    {
      "cell_type": "markdown",
      "metadata": {
        "id": "kqjS6Vpp1NFE"
      },
      "source": [
        "### Split into words\n",
        "\n",
        "From the same toolkit, we consider the tokenize library and import the word tokenizer. Similary to `re.split`, this function will split the text into tokens rather than words. Make sure you check out the ouput and spot the differences!"
      ]
    },
    {
      "cell_type": "code",
      "metadata": {
        "id": "UH243FyW079Y",
        "colab": {
          "base_uri": "https://localhost:8080/"
        },
        "outputId": "43022f15-2ed3-48fa-dfa7-4207075e4aa1"
      },
      "source": [
        "from nltk.tokenize import word_tokenize\n",
        "\n",
        "# split into words\n",
        "tokens = word_tokenize(text) \n",
        "print(tokens[:100])"
      ],
      "execution_count": 5,
      "outputs": [
        {
          "output_type": "stream",
          "text": [
            "['Albert', 'Einstein', 'is', 'widely', 'celebrated', 'as', 'one', 'of', 'the', 'most', 'brilliant', 'scientists', 'who', '’', 's', 'ever', 'lived', '.', 'His', 'fame', 'was', 'due', 'to', 'his', 'original', 'and', 'creative', 'theories', 'that', 'at', 'first', 'seemed', 'crazy', ',', 'but', 'that', 'later', 'turned', 'out', 'to', 'represent', 'the', 'actual', 'physical', 'world', '.', 'Nonetheless', ',', 'when', 'he', 'applied', 'his', 'theory', 'of', 'general', 'relativity', 'to', 'the', 'universe', 'as', 'a', 'whole', 'in', 'a', 'paper', 'published', 'in', '1917', ',', 'while', 'serving', 'as', 'Director', 'of', 'the', 'Kaiser', 'Wilhelm', 'Institute', 'for', 'Physics', 'and', 'professor', 'at', 'the', 'University', 'of', 'Berlin', ',', 'Einstein', 'suggested', 'the', 'notion', 'of', 'a', '``', 'cosmological', 'constant', \"''\", '.', 'He']\n"
          ],
          "name": "stdout"
        }
      ]
    },
    {
      "cell_type": "markdown",
      "metadata": {
        "id": "JHBg2ySw1nvd"
      },
      "source": [
        "### Filter out punctuation\n",
        "\n",
        "Python includes the built-in function `isalpha()` that can be used in order to determine whether or not the scanned the word is alphabetical or else (numerical, punctuation, special characters, etc.)"
      ]
    },
    {
      "cell_type": "code",
      "metadata": {
        "id": "WO_XJoqQ1T7f",
        "colab": {
          "base_uri": "https://localhost:8080/"
        },
        "outputId": "c9181201-74b6-45ac-a033-9c84b60b96fb"
      },
      "source": [
        "# split into words\n",
        "tokens = word_tokenize(text)\n",
        "\n",
        "# remove all tokens that are not alphabetic\n",
        "words = [word for word in tokens if word.isalpha()] \n",
        "print(words[:100])"
      ],
      "execution_count": 6,
      "outputs": [
        {
          "output_type": "stream",
          "text": [
            "['Albert', 'Einstein', 'is', 'widely', 'celebrated', 'as', 'one', 'of', 'the', 'most', 'brilliant', 'scientists', 'who', 's', 'ever', 'lived', 'His', 'fame', 'was', 'due', 'to', 'his', 'original', 'and', 'creative', 'theories', 'that', 'at', 'first', 'seemed', 'crazy', 'but', 'that', 'later', 'turned', 'out', 'to', 'represent', 'the', 'actual', 'physical', 'world', 'Nonetheless', 'when', 'he', 'applied', 'his', 'theory', 'of', 'general', 'relativity', 'to', 'the', 'universe', 'as', 'a', 'whole', 'in', 'a', 'paper', 'published', 'in', 'while', 'serving', 'as', 'Director', 'of', 'the', 'Kaiser', 'Wilhelm', 'Institute', 'for', 'Physics', 'and', 'professor', 'at', 'the', 'University', 'of', 'Berlin', 'Einstein', 'suggested', 'the', 'notion', 'of', 'a', 'cosmological', 'constant', 'He', 'discarded', 'this', 'notion', 'when', 'it', 'had', 'been', 'established', 'that', 'the', 'universe']\n"
          ],
          "name": "stdout"
        }
      ]
    },
    {
      "cell_type": "markdown",
      "metadata": {
        "id": "ymzbbr-l2i4F"
      },
      "source": [
        "### Remove stopwords\n",
        "\n",
        "Stopwords are the words which do not add much meaning to a sentence. They can safely be ignored without sacrificing the meaning of the sentence. The most common are short function words such as the, is, at, which, and on, etc.\n",
        "\n",
        "In this case, removing stopwords can cause problems when searching for phrases that include them, particularly in names such as “The Who” or “Take That”.\n",
        "\n",
        "Including the word \"not\" as a stopword also changes the entire meaning if removed (try \"this code is not good\")"
      ]
    },
    {
      "cell_type": "code",
      "metadata": {
        "id": "83lGVicu2cuQ",
        "colab": {
          "base_uri": "https://localhost:8080/"
        },
        "outputId": "7551edb0-e5f4-4be5-8443-e0de938715cb"
      },
      "source": [
        "# let's list all the stopwords for NLTK\n",
        "import nltk\n",
        "from nltk.corpus import stopwords\n",
        "\n",
        "nltk.download('stopwords')\n",
        "\n",
        "stop_words = stopwords.words('english') \n",
        "print(stop_words)"
      ],
      "execution_count": 7,
      "outputs": [
        {
          "output_type": "stream",
          "text": [
            "[nltk_data] Downloading package stopwords to /root/nltk_data...\n",
            "[nltk_data]   Unzipping corpora/stopwords.zip.\n",
            "['i', 'me', 'my', 'myself', 'we', 'our', 'ours', 'ourselves', 'you', \"you're\", \"you've\", \"you'll\", \"you'd\", 'your', 'yours', 'yourself', 'yourselves', 'he', 'him', 'his', 'himself', 'she', \"she's\", 'her', 'hers', 'herself', 'it', \"it's\", 'its', 'itself', 'they', 'them', 'their', 'theirs', 'themselves', 'what', 'which', 'who', 'whom', 'this', 'that', \"that'll\", 'these', 'those', 'am', 'is', 'are', 'was', 'were', 'be', 'been', 'being', 'have', 'has', 'had', 'having', 'do', 'does', 'did', 'doing', 'a', 'an', 'the', 'and', 'but', 'if', 'or', 'because', 'as', 'until', 'while', 'of', 'at', 'by', 'for', 'with', 'about', 'against', 'between', 'into', 'through', 'during', 'before', 'after', 'above', 'below', 'to', 'from', 'up', 'down', 'in', 'out', 'on', 'off', 'over', 'under', 'again', 'further', 'then', 'once', 'here', 'there', 'when', 'where', 'why', 'how', 'all', 'any', 'both', 'each', 'few', 'more', 'most', 'other', 'some', 'such', 'no', 'nor', 'not', 'only', 'own', 'same', 'so', 'than', 'too', 'very', 's', 't', 'can', 'will', 'just', 'don', \"don't\", 'should', \"should've\", 'now', 'd', 'll', 'm', 'o', 're', 've', 'y', 'ain', 'aren', \"aren't\", 'couldn', \"couldn't\", 'didn', \"didn't\", 'doesn', \"doesn't\", 'hadn', \"hadn't\", 'hasn', \"hasn't\", 'haven', \"haven't\", 'isn', \"isn't\", 'ma', 'mightn', \"mightn't\", 'mustn', \"mustn't\", 'needn', \"needn't\", 'shan', \"shan't\", 'shouldn', \"shouldn't\", 'wasn', \"wasn't\", 'weren', \"weren't\", 'won', \"won't\", 'wouldn', \"wouldn't\"]\n"
          ],
          "name": "stdout"
        }
      ]
    },
    {
      "cell_type": "markdown",
      "metadata": {
        "id": "GeRZd4vT3Wn8"
      },
      "source": [
        "As you can see, the stopwords are all lower case and don't have punctuation. If we're to compare them with our tokens, we need to make sure that our text is prepared the same way."
      ]
    },
    {
      "cell_type": "markdown",
      "metadata": {
        "id": "EHmDBFUS7zQk"
      },
      "source": [
        "This cell recaps all what we have previously learnt in this colab: tokenizing, lower casing and checking for alphabetic words."
      ]
    },
    {
      "cell_type": "code",
      "metadata": {
        "id": "OUheZUYD2prw",
        "colab": {
          "base_uri": "https://localhost:8080/"
        },
        "outputId": "cc3b3307-d158-4020-fe64-cda7f3159d0e"
      },
      "source": [
        "# clean our text\n",
        "\n",
        "# split into words\n",
        "tokens = word_tokenize(text)\n",
        "\n",
        "# convert to lower case\n",
        "tokens = [w.lower() for w in tokens]\n",
        "\n",
        "# remove all tokens that are not alphabetic\n",
        "words = [word for word in tokens if word.isalpha()] \n",
        "\n",
        "# filter out stop words\n",
        "stop_words = set(stopwords.words('english'))\n",
        "words = [w for w in words if not w in stop_words] \n",
        "print(words[:100])"
      ],
      "execution_count": 8,
      "outputs": [
        {
          "output_type": "stream",
          "text": [
            "['albert', 'einstein', 'widely', 'celebrated', 'one', 'brilliant', 'scientists', 'ever', 'lived', 'fame', 'due', 'original', 'creative', 'theories', 'first', 'seemed', 'crazy', 'later', 'turned', 'represent', 'actual', 'physical', 'world', 'nonetheless', 'applied', 'theory', 'general', 'relativity', 'universe', 'whole', 'paper', 'published', 'serving', 'director', 'kaiser', 'wilhelm', 'institute', 'physics', 'professor', 'university', 'berlin', 'einstein', 'suggested', 'notion', 'cosmological', 'constant', 'discarded', 'notion', 'established', 'universe', 'indeed', 'expanding', 'contributions', 'physics', 'made', 'possible', 'envision', 'universe', 'order', 'understand', 'einstein', 'contribution', 'cosmology', 'helpful', 'begin', 'theory', 'gravity', 'rather', 'thinking', 'gravity', 'attractive', 'force', 'two', 'objects', 'tradition', 'isaac', 'newton', 'einstein', 'conception', 'gravity', 'property', 'massive', 'objects', 'bends', 'space', 'time', 'around', 'example', 'consider', 'question', 'moon', 'fly', 'space', 'rather', 'staying', 'orbit', 'around', 'earth', 'newton', 'would']\n"
          ],
          "name": "stdout"
        }
      ]
    },
    {
      "cell_type": "markdown",
      "metadata": {
        "id": "yI8aqq274DZS"
      },
      "source": [
        "### Stem words\n",
        "\n",
        "Stemming refers to the process of reducing each word to its root or base.\n",
        "There are two types of stemmers for suffix stripping: porter and lancaster and each has its own algorithm and sometimes display different outputs."
      ]
    },
    {
      "cell_type": "code",
      "metadata": {
        "id": "x7PZmd_636vW",
        "colab": {
          "base_uri": "https://localhost:8080/"
        },
        "outputId": "4ec42092-0360-457f-aa1a-0836bec8d5d8"
      },
      "source": [
        "from nltk.tokenize import word_tokenize\n",
        "from nltk.stem.porter import PorterStemmer\n",
        "\n",
        "# split into words\n",
        "tokens = word_tokenize(text)\n",
        "\n",
        "# stemming of words\n",
        "porter = PorterStemmer()\n",
        "stemmed = [porter.stem(word) for word in tokens] \n",
        "print(stemmed[:100])"
      ],
      "execution_count": 9,
      "outputs": [
        {
          "output_type": "stream",
          "text": [
            "['albert', 'einstein', 'is', 'wide', 'celebr', 'as', 'one', 'of', 'the', 'most', 'brilliant', 'scientist', 'who', '’', 's', 'ever', 'live', '.', 'hi', 'fame', 'wa', 'due', 'to', 'hi', 'origin', 'and', 'creativ', 'theori', 'that', 'at', 'first', 'seem', 'crazi', ',', 'but', 'that', 'later', 'turn', 'out', 'to', 'repres', 'the', 'actual', 'physic', 'world', '.', 'nonetheless', ',', 'when', 'he', 'appli', 'hi', 'theori', 'of', 'gener', 'rel', 'to', 'the', 'univers', 'as', 'a', 'whole', 'in', 'a', 'paper', 'publish', 'in', '1917', ',', 'while', 'serv', 'as', 'director', 'of', 'the', 'kaiser', 'wilhelm', 'institut', 'for', 'physic', 'and', 'professor', 'at', 'the', 'univers', 'of', 'berlin', ',', 'einstein', 'suggest', 'the', 'notion', 'of', 'a', '``', 'cosmolog', 'constant', \"''\", '.', 'He']\n"
          ],
          "name": "stdout"
        }
      ]
    },
    {
      "cell_type": "code",
      "metadata": {
        "id": "CTZRgaRQ4ig-",
        "colab": {
          "base_uri": "https://localhost:8080/"
        },
        "outputId": "4934c703-fce7-4b8f-840d-6974a918ed5e"
      },
      "source": [
        "from nltk.tokenize import word_tokenize\n",
        "from nltk.stem.lancaster import LancasterStemmer\n",
        "\n",
        "# split into words\n",
        "tokens = word_tokenize(text)\n",
        "\n",
        "# stemming of words\n",
        "lancaster = LancasterStemmer()\n",
        "stemmed = [lancaster.stem(word) for word in tokens] \n",
        "print(stemmed[:100])\n"
      ],
      "execution_count": 10,
      "outputs": [
        {
          "output_type": "stream",
          "text": [
            "['albert', 'einstein', 'is', 'wid', 'celebr', 'as', 'on', 'of', 'the', 'most', 'bril', 'sci', 'who', '’', 's', 'ev', 'liv', '.', 'his', 'fam', 'was', 'due', 'to', 'his', 'origin', 'and', 'cre', 'the', 'that', 'at', 'first', 'seem', 'crazy', ',', 'but', 'that', 'lat', 'turn', 'out', 'to', 'repres', 'the', 'act', 'phys', 'world', '.', 'nonetheless', ',', 'when', 'he', 'apply', 'his', 'the', 'of', 'gen', 'rel', 'to', 'the', 'univers', 'as', 'a', 'whol', 'in', 'a', 'pap', 'publ', 'in', '1917', ',', 'whil', 'serv', 'as', 'direct', 'of', 'the', 'kais', 'wilhelm', 'institut', 'for', 'phys', 'and', 'profess', 'at', 'the', 'univers', 'of', 'berlin', ',', 'einstein', 'suggest', 'the', 'not', 'of', 'a', '``', 'cosmolog', 'const', \"''\", '.', 'he']\n"
          ],
          "name": "stdout"
        }
      ]
    }
  ]
}