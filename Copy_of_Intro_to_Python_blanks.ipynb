{
  "nbformat": 4,
  "nbformat_minor": 0,
  "metadata": {
    "colab": {
      "name": "Copy of Intro_to_Python_blanks.ipynb",
      "provenance": [],
      "collapsed_sections": [],
      "toc_visible": true,
      "include_colab_link": true
    },
    "kernelspec": {
      "name": "python3",
      "display_name": "Python 3",
      "language": "python"
    },
    "language_info": {
      "mimetype": "text/x-python",
      "nbconvert_exporter": "python",
      "name": "python",
      "file_extension": ".py",
      "version": "3.5.4",
      "pygments_lexer": "ipython3",
      "codemirror_mode": {
        "version": 3,
        "name": "ipython"
      }
    }
  },
  "cells": [
    {
      "cell_type": "markdown",
      "metadata": {
        "id": "view-in-github",
        "colab_type": "text"
      },
      "source": [
        "<a href=\"https://colab.research.google.com/github/Bcopeland64/Data-Science-Notebooks/blob/master/Copy_of_Intro_to_Python_blanks.ipynb\" target=\"_parent\"><img src=\"https://colab.research.google.com/assets/colab-badge.svg\" alt=\"Open In Colab\"/></a>"
      ]
    },
    {
      "cell_type": "markdown",
      "metadata": {
        "id": "CQT7CeNRk_aJ"
      },
      "source": [
        "Copyright 2021, Zaka AI, Inc. All Rights Reserved."
      ]
    },
    {
      "cell_type": "markdown",
      "metadata": {
        "id": "zxS5uRloJuS0"
      },
      "source": [
        "# Python Basics\n",
        "---\n",
        "\n",
        "**Objective:**\n",
        "\n",
        "In this exercise, you will be covering basics of python including syntax, operators, data types, control flows, and.\n",
        "\n",
        "[The Zen of Python, explained.](https://inventwithpython.com/blog/2018/08/17/the-zen-of-python-explained/)\n"
      ]
    },
    {
      "cell_type": "code",
      "metadata": {
        "id": "gOPURWHzMM1v",
        "trusted": true,
        "colab": {
          "base_uri": "https://localhost:8080/"
        },
        "outputId": "b68a6e28-fb2e-49ed-f3a8-db2da48829cb"
      },
      "source": [
        "#Display Zen of Python\n",
        "import this"
      ],
      "execution_count": 1,
      "outputs": [
        {
          "output_type": "stream",
          "text": [
            "The Zen of Python, by Tim Peters\n",
            "\n",
            "Beautiful is better than ugly.\n",
            "Explicit is better than implicit.\n",
            "Simple is better than complex.\n",
            "Complex is better than complicated.\n",
            "Flat is better than nested.\n",
            "Sparse is better than dense.\n",
            "Readability counts.\n",
            "Special cases aren't special enough to break the rules.\n",
            "Although practicality beats purity.\n",
            "Errors should never pass silently.\n",
            "Unless explicitly silenced.\n",
            "In the face of ambiguity, refuse the temptation to guess.\n",
            "There should be one-- and preferably only one --obvious way to do it.\n",
            "Although that way may not be obvious at first unless you're Dutch.\n",
            "Now is better than never.\n",
            "Although never is often better than *right* now.\n",
            "If the implementation is hard to explain, it's a bad idea.\n",
            "If the implementation is easy to explain, it may be a good idea.\n",
            "Namespaces are one honking great idea -- let's do more of those!\n"
          ],
          "name": "stdout"
        }
      ]
    },
    {
      "cell_type": "markdown",
      "metadata": {
        "id": "OKvGelruSLWQ"
      },
      "source": [
        "## Python as a calculator"
      ]
    },
    {
      "cell_type": "code",
      "metadata": {
        "id": "wMyXCJz7SK8T",
        "trusted": true,
        "colab": {
          "base_uri": "https://localhost:8080/"
        },
        "outputId": "4e1ddaa0-36f8-468b-d494-15e87c97c852"
      },
      "source": [
        "# power \n",
        "print(2**3 )\n",
        "\n",
        "# division\n",
        "print(42/15 )\n",
        "\n",
        "# modulo\n",
        "print( 8%3) \n",
        "\n",
        "# floor division\n",
        "print(42//15)"
      ],
      "execution_count": 2,
      "outputs": [
        {
          "output_type": "stream",
          "text": [
            "8\n",
            "2.8\n",
            "2\n",
            "2\n"
          ],
          "name": "stdout"
        }
      ]
    },
    {
      "cell_type": "markdown",
      "metadata": {
        "id": "BmWbp3QCS1SE"
      },
      "source": [
        "## Using Variables"
      ]
    },
    {
      "cell_type": "code",
      "metadata": {
        "id": "CN9U-JJfMM13",
        "trusted": true
      },
      "source": [
        "#we have a rectangle having the below width and height\n",
        "width= 20\n",
        "height= 5"
      ],
      "execution_count": 3,
      "outputs": []
    },
    {
      "cell_type": "code",
      "metadata": {
        "id": "EcbZxh-xMM15",
        "trusted": true,
        "colab": {
          "base_uri": "https://localhost:8080/"
        },
        "outputId": "4296f527-df82-4343-f6ee-5df29ad1fff7"
      },
      "source": [
        "#print area of the rectangle\n",
        "print (width*height)"
      ],
      "execution_count": 4,
      "outputs": [
        {
          "output_type": "stream",
          "text": [
            "100\n"
          ],
          "name": "stdout"
        }
      ]
    },
    {
      "cell_type": "code",
      "metadata": {
        "id": "ffOlk99MMM18",
        "trusted": true,
        "colab": {
          "base_uri": "https://localhost:8080/"
        },
        "outputId": "33e2588a-6515-418f-8432-fe2310812fc2"
      },
      "source": [
        "# add 10 to height and print\n",
        "height += 10\n",
        "print(height)"
      ],
      "execution_count": 5,
      "outputs": [
        {
          "output_type": "stream",
          "text": [
            "15\n"
          ],
          "name": "stdout"
        }
      ]
    },
    {
      "cell_type": "code",
      "metadata": {
        "id": "zsuusCztSJcs",
        "trusted": true,
        "colab": {
          "base_uri": "https://localhost:8080/"
        },
        "outputId": "9e098c90-a429-4d08-cd7d-2a042fce7821"
      },
      "source": [
        "# print a check condition if the shape is a square\n",
        "print(width == height)"
      ],
      "execution_count": 6,
      "outputs": [
        {
          "output_type": "stream",
          "text": [
            "False\n"
          ],
          "name": "stdout"
        }
      ]
    },
    {
      "cell_type": "markdown",
      "metadata": {
        "id": "aujMt78iTa4f"
      },
      "source": [
        "## Booleans\n"
      ]
    },
    {
      "cell_type": "code",
      "metadata": {
        "id": "zoHtazSeTRAT",
        "trusted": true,
        "colab": {
          "base_uri": "https://localhost:8080/"
        },
        "outputId": "4af0977c-6aea-4ade-cc39-f2a3b3118455"
      },
      "source": [
        "True & False"
      ],
      "execution_count": 7,
      "outputs": [
        {
          "output_type": "execute_result",
          "data": {
            "text/plain": [
              "False"
            ]
          },
          "metadata": {
            "tags": []
          },
          "execution_count": 7
        }
      ]
    },
    {
      "cell_type": "code",
      "metadata": {
        "id": "SnfR1x-7TO5H",
        "trusted": true,
        "colab": {
          "base_uri": "https://localhost:8080/"
        },
        "outputId": "72deb6ae-b671-465f-f57a-d2a32925043e"
      },
      "source": [
        "True | False "
      ],
      "execution_count": 8,
      "outputs": [
        {
          "output_type": "execute_result",
          "data": {
            "text/plain": [
              "True"
            ]
          },
          "metadata": {
            "tags": []
          },
          "execution_count": 8
        }
      ]
    },
    {
      "cell_type": "code",
      "metadata": {
        "id": "PwAvmt3dTZo_",
        "trusted": true,
        "colab": {
          "base_uri": "https://localhost:8080/"
        },
        "outputId": "9a21b0ed-5f4b-491c-d818-78551233235a"
      },
      "source": [
        "z= True \n",
        "z2 = False \n",
        "\n",
        "z &= z2 # same as z = z & z2\n",
        "print(z)"
      ],
      "execution_count": 9,
      "outputs": [
        {
          "output_type": "stream",
          "text": [
            "False\n"
          ],
          "name": "stdout"
        }
      ]
    },
    {
      "cell_type": "markdown",
      "metadata": {
        "id": "V8OQS7NfTsUk"
      },
      "source": [
        "## Strings"
      ]
    },
    {
      "cell_type": "code",
      "metadata": {
        "id": "t6dOf0l0TtTi",
        "trusted": true,
        "colab": {
          "base_uri": "https://localhost:8080/"
        },
        "outputId": "f04720cd-433d-425b-9c38-85f76bd01fac"
      },
      "source": [
        "print (\"I'm starting an AI course soon!\")"
      ],
      "execution_count": 10,
      "outputs": [
        {
          "output_type": "stream",
          "text": [
            "I'm starting an AI course soon!\n"
          ],
          "name": "stdout"
        }
      ]
    },
    {
      "cell_type": "code",
      "metadata": {
        "id": "L5Dv7LGBMM2L",
        "trusted": true,
        "colab": {
          "base_uri": "https://localhost:8080/"
        },
        "outputId": "99bdaec7-36ef-4aa9-bafb-861ad35659ff"
      },
      "source": [
        "print (\"\"\"This is a \n",
        "multiline string\"\"\") \n",
        "# OR\n",
        "print(\"\\nfirst line \\n second line\")"
      ],
      "execution_count": 11,
      "outputs": [
        {
          "output_type": "stream",
          "text": [
            "This is a \n",
            "multiline string\n",
            "\n",
            "first line \n",
            " second line\n"
          ],
          "name": "stdout"
        }
      ]
    },
    {
      "cell_type": "code",
      "metadata": {
        "id": "czaYJbgBMM2N",
        "trusted": true,
        "colab": {
          "base_uri": "https://localhost:8080/"
        },
        "outputId": "0b9eefe2-5b54-49b6-9b44-b0bec41cfbff"
      },
      "source": [
        "# print combination of two strings\n",
        "print(\"first part\"+\" second part\")"
      ],
      "execution_count": 12,
      "outputs": [
        {
          "output_type": "stream",
          "text": [
            "first part second part\n"
          ],
          "name": "stdout"
        }
      ]
    },
    {
      "cell_type": "code",
      "metadata": {
        "id": "o98w_nl3UMCK",
        "trusted": true,
        "colab": {
          "base_uri": "https://localhost:8080/"
        },
        "outputId": "e8da8354-f555-4aaa-8a0f-da8355cfb86e"
      },
      "source": [
        "word=\"University\"\n",
        "# print first letter of word\n",
        "print (word[0])"
      ],
      "execution_count": 13,
      "outputs": [
        {
          "output_type": "stream",
          "text": [
            "U\n"
          ],
          "name": "stdout"
        }
      ]
    },
    {
      "cell_type": "code",
      "metadata": {
        "id": "lPEJCYCfMM2S",
        "trusted": true,
        "colab": {
          "base_uri": "https://localhost:8080/"
        },
        "outputId": "1b91851e-0f11-4b9d-cb43-9ca83665c3fd"
      },
      "source": [
        "# print last letter of word\n",
        "print(word[-1])"
      ],
      "execution_count": 14,
      "outputs": [
        {
          "output_type": "stream",
          "text": [
            "y\n"
          ],
          "name": "stdout"
        }
      ]
    },
    {
      "cell_type": "markdown",
      "metadata": {
        "id": "eGDPzT-5UjNF"
      },
      "source": [
        "## Type casting"
      ]
    },
    {
      "cell_type": "code",
      "metadata": {
        "id": "aEeW1td2UhSw",
        "trusted": true,
        "colab": {
          "base_uri": "https://localhost:8080/"
        },
        "outputId": "06a3556a-2fa3-41cb-b454-84c381140e74"
      },
      "source": [
        "# It is often useful to change the type of an object\n",
        "a=2\n",
        "b=3\n",
        "print (a+b)\n",
        "print ('Value of b: ' + str(b))"
      ],
      "execution_count": 15,
      "outputs": [
        {
          "output_type": "stream",
          "text": [
            "5\n",
            "Value of b: 3\n"
          ],
          "name": "stdout"
        }
      ]
    },
    {
      "cell_type": "code",
      "metadata": {
        "id": "iFtiybeXIM7i",
        "trusted": true,
        "colab": {
          "base_uri": "https://localhost:8080/",
          "height": 185
        },
        "outputId": "c7620acf-4177-4ebd-8fcc-4da9fd0b131a"
      },
      "source": [
        "# what if b was not a string\n",
        "print ('Value of b: ' + b)"
      ],
      "execution_count": 16,
      "outputs": [
        {
          "output_type": "error",
          "ename": "TypeError",
          "evalue": "ignored",
          "traceback": [
            "\u001b[0;31m---------------------------------------------------------------------------\u001b[0m",
            "\u001b[0;31mTypeError\u001b[0m                                 Traceback (most recent call last)",
            "\u001b[0;32m<ipython-input-16-4ee43659e76b>\u001b[0m in \u001b[0;36m<module>\u001b[0;34m()\u001b[0m\n\u001b[1;32m      1\u001b[0m \u001b[0;31m# what if b was not a string\u001b[0m\u001b[0;34m\u001b[0m\u001b[0;34m\u001b[0m\u001b[0;34m\u001b[0m\u001b[0m\n\u001b[0;32m----> 2\u001b[0;31m \u001b[0mprint\u001b[0m \u001b[0;34m(\u001b[0m\u001b[0;34m'Value of b: '\u001b[0m \u001b[0;34m+\u001b[0m \u001b[0mb\u001b[0m\u001b[0;34m)\u001b[0m\u001b[0;34m\u001b[0m\u001b[0;34m\u001b[0m\u001b[0m\n\u001b[0m",
            "\u001b[0;31mTypeError\u001b[0m: can only concatenate str (not \"int\") to str"
          ]
        }
      ]
    },
    {
      "cell_type": "markdown",
      "metadata": {
        "id": "hCQPouf9UxrA"
      },
      "source": [
        "## Lists\n",
        "Lists can be used to group together other items. In python (unlike other languages), lists can contain items of different types."
      ]
    },
    {
      "cell_type": "code",
      "metadata": {
        "id": "jQxypyq7MM2u",
        "trusted": true,
        "colab": {
          "base_uri": "https://localhost:8080/"
        },
        "outputId": "1c6445d5-a8c8-4241-ff25-81de290d283e"
      },
      "source": [
        "nums = [1,4,9,16,25]\n",
        "\n",
        "#print the first element in the list nums\n",
        "print (nums[0])"
      ],
      "execution_count": 18,
      "outputs": [
        {
          "output_type": "stream",
          "text": [
            "1\n"
          ],
          "name": "stdout"
        }
      ]
    },
    {
      "cell_type": "code",
      "metadata": {
        "id": "TkREHX76MM2w",
        "trusted": true,
        "colab": {
          "base_uri": "https://localhost:8080/"
        },
        "outputId": "8a52bf37-ea07-4570-cc0e-f09ea97ed6b0"
      },
      "source": [
        "#print from nums elements ranging from the third element(inclusive) till the end\n",
        "print (nums[2:])"
      ],
      "execution_count": 19,
      "outputs": [
        {
          "output_type": "stream",
          "text": [
            "[9, 16, 25]\n"
          ],
          "name": "stdout"
        }
      ]
    },
    {
      "cell_type": "code",
      "metadata": {
        "id": "pABXREmXMM2y",
        "trusted": true,
        "colab": {
          "base_uri": "https://localhost:8080/"
        },
        "outputId": "20b630d3-f8e7-4766-f329-eb5e47da3188"
      },
      "source": [
        "# print elements at index 2(inclusive) to 4(exclusive)\n",
        "print (nums[2:4])"
      ],
      "execution_count": 20,
      "outputs": [
        {
          "output_type": "stream",
          "text": [
            "[9, 16]\n"
          ],
          "name": "stdout"
        }
      ]
    },
    {
      "cell_type": "code",
      "metadata": {
        "id": "eQ92o8OXMM20",
        "trusted": true,
        "colab": {
          "base_uri": "https://localhost:8080/"
        },
        "outputId": "c1234f53-6ca0-4d60-f5c5-d45a3de4493e"
      },
      "source": [
        "# print length of the list\n",
        "print(len(nums))"
      ],
      "execution_count": 21,
      "outputs": [
        {
          "output_type": "stream",
          "text": [
            "5\n"
          ],
          "name": "stdout"
        }
      ]
    },
    {
      "cell_type": "markdown",
      "metadata": {
        "id": "kHK7LckoMM2U"
      },
      "source": [
        "## Dictionaries"
      ]
    },
    {
      "cell_type": "markdown",
      "metadata": {
        "id": "kKYGJrShMM2V"
      },
      "source": [
        "A dictionary is a collection which is unordered, changeable and indexed. In Python dictionaries are written with curly brackets, and they have keys and values."
      ]
    },
    {
      "cell_type": "code",
      "metadata": {
        "id": "fxi9OKOXMM2V",
        "trusted": true,
        "colab": {
          "base_uri": "https://localhost:8080/"
        },
        "outputId": "e0b88804-ee3a-4c8c-b9b2-28f7b5118be0"
      },
      "source": [
        "info ={\n",
        "    'Name': 'Jean',\n",
        "    'Address': 'Beirut',\n",
        "    'Age': 23, \n",
        "    'Destination': 'AI Galaxy',\n",
        "    'Year': 2020\n",
        "}\n",
        "\n",
        "print(info)"
      ],
      "execution_count": 22,
      "outputs": [
        {
          "output_type": "stream",
          "text": [
            "{'Name': 'Jean', 'Address': 'Beirut', 'Age': 23, 'Destination': 'AI Galaxy', 'Year': 2020}\n"
          ],
          "name": "stdout"
        }
      ]
    },
    {
      "cell_type": "code",
      "metadata": {
        "id": "35xTdJxUMM2Y",
        "trusted": true,
        "colab": {
          "base_uri": "https://localhost:8080/"
        },
        "outputId": "a882bf8e-a0f1-443f-c344-1cf3e35fafba"
      },
      "source": [
        "#To access dictionary elements, you can use the familiar square brackets along with the key to obtain its value\n",
        "print (info['Name'],' lives in', info['Address'])"
      ],
      "execution_count": 23,
      "outputs": [
        {
          "output_type": "stream",
          "text": [
            "Jean  lives in Beirut\n"
          ],
          "name": "stdout"
        }
      ]
    },
    {
      "cell_type": "code",
      "metadata": {
        "id": "wTqiE09vMM2a",
        "trusted": true,
        "colab": {
          "base_uri": "https://localhost:8080/"
        },
        "outputId": "648dd397-5a0b-4d61-e1c5-dc5e46930882"
      },
      "source": [
        "#You can change the value of a specific item by referring to its key name.\n",
        "info['Year'] = 2021\n",
        "info['Address'] = 'Jbeil'\n",
        "\n",
        "print(info)"
      ],
      "execution_count": 24,
      "outputs": [
        {
          "output_type": "stream",
          "text": [
            "{'Name': 'Jean', 'Address': 'Jbeil', 'Age': 23, 'Destination': 'AI Galaxy', 'Year': 2021}\n"
          ],
          "name": "stdout"
        }
      ]
    },
    {
      "cell_type": "markdown",
      "metadata": {
        "id": "YKtAiQqyVCC5"
      },
      "source": [
        "## Data Types\n",
        "**Mutable vs Immutable:** in Python, some objects can be changed without changing their identity(mutable) and others cannot(immutable).\n",
        "\n",
        "Some immutable objects (i.e. objects that can't be modified after creation):\n",
        "*   int\n",
        "*   float\n",
        "*   string\n",
        "*   boolean\n",
        "\n",
        "\n",
        "Some mutable objects:\n",
        "*   list\n",
        "*   dictionary\n",
        "\n",
        "\n",
        "This fact if goes unnoticed can result in some nasty bugs (errors) when defining functions, and therefore is important to understand. \n",
        "\n",
        "NOTE: Mutable objects are great to use when you need to change the size of the object, example list, dict etc.. Immutables are used when you need to ensure that the object you made will always stay the same.\n",
        "\n",
        "[To read more about this.](https://medium.com/@meghamohan/mutable-and-immutable-side-of-python-c2145cf72747)"
      ]
    },
    {
      "cell_type": "code",
      "metadata": {
        "id": "7d7WD0cgMM22",
        "trusted": true,
        "colab": {
          "base_uri": "https://localhost:8080/"
        },
        "outputId": "749b69f4-f3fe-47e3-df74-1ce1fde0a2f6"
      },
      "source": [
        "# INT is IMMUTABLE\n",
        "x = 2\n",
        "y = 3 \n",
        "\n",
        "x = y\n",
        "\n",
        "print(x)\n",
        "print(y)\n",
        "\n",
        "#The id() function returns identity of the object. \n",
        "#This is an integer which is unique for the given object and remains constant during its lifetime.\n",
        "print(id(x))\n",
        "print(id(y))"
      ],
      "execution_count": 25,
      "outputs": [
        {
          "output_type": "stream",
          "text": [
            "3\n",
            "3\n",
            "94644289591872\n",
            "94644289591872\n"
          ],
          "name": "stdout"
        }
      ]
    },
    {
      "cell_type": "markdown",
      "metadata": {
        "id": "d64w_1m6MM24"
      },
      "source": [
        "id(x) == id(y)\n",
        "\n",
        "id(y) == id(3)"
      ]
    },
    {
      "cell_type": "code",
      "metadata": {
        "id": "DDAqeOpUWZye",
        "trusted": true,
        "colab": {
          "base_uri": "https://localhost:8080/"
        },
        "outputId": "a3c87cf9-ee5d-45f1-90fc-d4f5121a3276"
      },
      "source": [
        "x = x + 1\n",
        "print(x)\n",
        "print(y)\n",
        "print(id(x))\n",
        "print(id(y))"
      ],
      "execution_count": 26,
      "outputs": [
        {
          "output_type": "stream",
          "text": [
            "4\n",
            "3\n",
            "94644289591904\n",
            "94644289591872\n"
          ],
          "name": "stdout"
        }
      ]
    },
    {
      "cell_type": "markdown",
      "metadata": {
        "id": "bL8SZ_hxMM28"
      },
      "source": [
        "id(x) != id(y)\n",
        "\n",
        "id(x) != id(3)"
      ]
    },
    {
      "cell_type": "code",
      "metadata": {
        "id": "SEztlMkgWoGO",
        "trusted": true,
        "colab": {
          "base_uri": "https://localhost:8080/"
        },
        "outputId": "276788ac-23b1-4ae5-9750-26ed71cc8fb6"
      },
      "source": [
        "# LIST is MUTABLE\n",
        "m = list([1, 2, 3])\n",
        "\n",
        "n = m\n",
        "\n",
        "print(m)\n",
        "print(n)\n",
        "\n",
        "print(id(m))\n",
        "print(id(n))"
      ],
      "execution_count": 27,
      "outputs": [
        {
          "output_type": "stream",
          "text": [
            "[1, 2, 3]\n",
            "[1, 2, 3]\n",
            "140631167353792\n",
            "140631167353792\n"
          ],
          "name": "stdout"
        }
      ]
    },
    {
      "cell_type": "markdown",
      "metadata": {
        "id": "mnSzPSXfMM3A"
      },
      "source": [
        "id(m) == id(n)"
      ]
    },
    {
      "cell_type": "code",
      "metadata": {
        "id": "3Ov_C9dMWoJV",
        "trusted": true,
        "colab": {
          "base_uri": "https://localhost:8080/"
        },
        "outputId": "3da0e3ed-6e47-4760-8a64-fbc0b8c83354"
      },
      "source": [
        "m.pop()\n",
        "\n",
        "print(m)\n",
        "print(n)\n",
        "\n",
        "print(id(m))\n",
        "print(id(n))"
      ],
      "execution_count": 28,
      "outputs": [
        {
          "output_type": "stream",
          "text": [
            "[1, 2]\n",
            "[1, 2]\n",
            "140631167353792\n",
            "140631167353792\n"
          ],
          "name": "stdout"
        }
      ]
    },
    {
      "cell_type": "markdown",
      "metadata": {
        "id": "dz1HNbxpMM3C"
      },
      "source": [
        "id(m) == id(n)"
      ]
    },
    {
      "cell_type": "markdown",
      "metadata": {
        "id": "LBH2h_fJMM3D"
      },
      "source": [
        "NOTE: If a mutable object is called by reference in a function, it can change the original variable itself. Hence to avoid this, the original variable needs to be copied to another variable. Immutable objects can be called by reference because its value cannot be changed anyways."
      ]
    },
    {
      "cell_type": "markdown",
      "metadata": {
        "id": "mxlCguIFIrkW"
      },
      "source": [
        "Notice the following error:"
      ]
    },
    {
      "cell_type": "code",
      "metadata": {
        "id": "fWsAo0xpIrTA",
        "trusted": true,
        "colab": {
          "base_uri": "https://localhost:8080/",
          "height": 185
        },
        "outputId": "92fcb50e-babd-4331-f125-86ff1f21c395"
      },
      "source": [
        "word = \"university\" \n",
        "word[2]='r' "
      ],
      "execution_count": 29,
      "outputs": [
        {
          "output_type": "error",
          "ename": "TypeError",
          "evalue": "ignored",
          "traceback": [
            "\u001b[0;31m---------------------------------------------------------------------------\u001b[0m",
            "\u001b[0;31mTypeError\u001b[0m                                 Traceback (most recent call last)",
            "\u001b[0;32m<ipython-input-29-b18e5c7c2326>\u001b[0m in \u001b[0;36m<module>\u001b[0;34m()\u001b[0m\n\u001b[1;32m      1\u001b[0m \u001b[0mword\u001b[0m \u001b[0;34m=\u001b[0m \u001b[0;34m\"university\"\u001b[0m\u001b[0;34m\u001b[0m\u001b[0;34m\u001b[0m\u001b[0m\n\u001b[0;32m----> 2\u001b[0;31m \u001b[0mword\u001b[0m\u001b[0;34m[\u001b[0m\u001b[0;36m2\u001b[0m\u001b[0;34m]\u001b[0m\u001b[0;34m=\u001b[0m\u001b[0;34m'r'\u001b[0m\u001b[0;34m\u001b[0m\u001b[0;34m\u001b[0m\u001b[0m\n\u001b[0m",
            "\u001b[0;31mTypeError\u001b[0m: 'str' object does not support item assignment"
          ]
        }
      ]
    },
    {
      "cell_type": "markdown",
      "metadata": {
        "id": "BZ2HhnqcVltB"
      },
      "source": [
        "But it works for lists, for example:"
      ]
    },
    {
      "cell_type": "code",
      "metadata": {
        "id": "jwQRQ1Y6ViND",
        "trusted": true,
        "colab": {
          "base_uri": "https://localhost:8080/"
        },
        "outputId": "657fa428-728b-498b-e8f6-569fb45fceee"
      },
      "source": [
        "squares=[1,4,9,16,25]\n",
        "squares[-2]=100\n",
        "print (squares)"
      ],
      "execution_count": 30,
      "outputs": [
        {
          "output_type": "stream",
          "text": [
            "[1, 4, 9, 100, 25]\n"
          ],
          "name": "stdout"
        }
      ]
    },
    {
      "cell_type": "markdown",
      "metadata": {
        "id": "JLlVk1oHZiPw"
      },
      "source": [
        "Examples of boolean operations:"
      ]
    },
    {
      "cell_type": "code",
      "metadata": {
        "id": "jLNfAAgiZj-5",
        "trusted": true,
        "colab": {
          "base_uri": "https://localhost:8080/"
        },
        "outputId": "3d9bd308-3632-4553-c7a1-509ea431ce70"
      },
      "source": [
        "x=2\n",
        "y=2\n",
        "\n",
        "#The is operator compares the identity of two objects.\n",
        "print(x is y)"
      ],
      "execution_count": 31,
      "outputs": [
        {
          "output_type": "stream",
          "text": [
            "True\n"
          ],
          "name": "stdout"
        }
      ]
    },
    {
      "cell_type": "code",
      "metadata": {
        "id": "RwHrg_CjZmJj",
        "trusted": true,
        "colab": {
          "base_uri": "https://localhost:8080/"
        },
        "outputId": "f878beb4-e353-4d5b-c7a9-0faf73e3f7a4"
      },
      "source": [
        "x=2\n",
        "y=5\n",
        "#check if x is not equal to y and print\n",
        "print(x != y)"
      ],
      "execution_count": 32,
      "outputs": [
        {
          "output_type": "stream",
          "text": [
            "True\n"
          ],
          "name": "stdout"
        }
      ]
    },
    {
      "cell_type": "code",
      "metadata": {
        "id": "t2co-8nlZqr2",
        "trusted": true,
        "colab": {
          "base_uri": "https://localhost:8080/"
        },
        "outputId": "673e451f-2e61-4e40-8af3-f034159f5f18"
      },
      "source": [
        "x=2\n",
        "y=3\n",
        "#x OR y and print result\n",
        "print(x | y)"
      ],
      "execution_count": 33,
      "outputs": [
        {
          "output_type": "stream",
          "text": [
            "3\n"
          ],
          "name": "stdout"
        }
      ]
    },
    {
      "cell_type": "code",
      "metadata": {
        "id": "qk0pX31qZtoy",
        "trusted": true,
        "colab": {
          "base_uri": "https://localhost:8080/"
        },
        "outputId": "7cffffb7-768b-42dd-cb05-0f2c8d543cec"
      },
      "source": [
        "x=2\n",
        "y=3\n",
        "#x AND y and print result\n",
        "print(x & y)"
      ],
      "execution_count": 34,
      "outputs": [
        {
          "output_type": "stream",
          "text": [
            "2\n"
          ],
          "name": "stdout"
        }
      ]
    },
    {
      "cell_type": "markdown",
      "metadata": {
        "id": "IeCWYzqVYLQ9"
      },
      "source": [
        "## Control Flow"
      ]
    },
    {
      "cell_type": "markdown",
      "metadata": {
        "id": "-bcIp3LhMM3R"
      },
      "source": [
        "### If statements"
      ]
    },
    {
      "cell_type": "code",
      "metadata": {
        "id": "759AWl8zMM3R",
        "trusted": true,
        "colab": {
          "base_uri": "https://localhost:8080/"
        },
        "outputId": "90f90f25-c9b1-4e7d-ba23-5cd21eae769a"
      },
      "source": [
        "#Read an integer from the user and save it in variable x\n",
        "x= int(input(\"Please enter an integer:\"))\n",
        "\n",
        "\n",
        "#print if x is negative, zero, or positive\n",
        "if(x<0):\n",
        "    print(\"Negative\")\n",
        "elif(x==0):\n",
        "    print(\"Zero\")\n",
        "else:\n",
        "    print(\"Positive\")"
      ],
      "execution_count": 35,
      "outputs": [
        {
          "output_type": "stream",
          "text": [
            "Please enter an integer:3\n",
            "Positive\n"
          ],
          "name": "stdout"
        }
      ]
    },
    {
      "cell_type": "markdown",
      "metadata": {
        "id": "Wzyix94kMM3V"
      },
      "source": [
        "### While Loop"
      ]
    },
    {
      "cell_type": "code",
      "metadata": {
        "id": "TgenwHMsMM3W",
        "trusted": true,
        "colab": {
          "base_uri": "https://localhost:8080/"
        },
        "outputId": "647b3bdb-534c-4bb3-ea21-95a3efc22e44"
      },
      "source": [
        "#Adjust the previous code so that you keep on reading values from the user until he/she prints a positive integer\n",
        "\n",
        "\n",
        "#Read a positive integer from the user and save it in variable x\n",
        "x=int(input(\"Please enter a positive integer:\"))\n",
        "\n",
        "\n",
        "#ask for new input if x is negative \n",
        "while(x<0):\n",
        "    print('You entered a negative integer')\n",
        "    x=int(input(\"\\nPlease enter a positive integer:\"))\n",
        "\n",
        "print('Success!\\nx = '+str(x))  "
      ],
      "execution_count": 36,
      "outputs": [
        {
          "output_type": "stream",
          "text": [
            "Please enter a positive integer:4\n",
            "Success!\n",
            "x = 4\n"
          ],
          "name": "stdout"
        }
      ]
    },
    {
      "cell_type": "code",
      "metadata": {
        "id": "gamgF5CeV3b6",
        "trusted": true,
        "colab": {
          "base_uri": "https://localhost:8080/"
        },
        "outputId": "a31d9ac3-3ac1-4863-c7a0-fe928ef79588"
      },
      "source": [
        "# write a loop that prints Fibonacci series starting at [1,2] up to 100\n",
        "#expected output: [1, 2, 3, 5, 8, 13, 21, 34, 55, 89]\n",
        "\n",
        "# NOTE: A current Fibonacci value F(n) = F(n-1) + F(n-2)\n",
        "\n",
        "numbers=[1,2]\n",
        "\n",
        "while ((numbers[-1]+numbers[-2]) < 100): #condition\n",
        "  fib_num = numbers[-1]+numbers[-2] #calculate next number\n",
        "  numbers = numbers + [fib_num] #store the number\n",
        "\n",
        "print(numbers)"
      ],
      "execution_count": 37,
      "outputs": [
        {
          "output_type": "stream",
          "text": [
            "[1, 2, 3, 5, 8, 13, 21, 34, 55, 89]\n"
          ],
          "name": "stdout"
        }
      ]
    },
    {
      "cell_type": "markdown",
      "metadata": {
        "id": "crhEfkXhYZAg"
      },
      "source": [
        "**Notice:**\n",
        "\n",
        "\n",
        "*   The while loop executes as long as the condition remains true.\n",
        "*   The body of the loop is indented. Indentation is how python groups statements. You can use tab or spaces for indentation, but you have to be consistent with the number of spaces. It is good practice to use exactly 4 spaces(or a tab).\n",
        "\n"
      ]
    },
    {
      "cell_type": "markdown",
      "metadata": {
        "id": "5eZl1zQFYsH8"
      },
      "source": [
        "### For loop\n",
        "\n",
        "The for loop iterates over the items of a list (or the characters of a string) in the order that they appear. In other languages, for loops always have the form of\n",
        "\n",
        "     for (i= 1 to 10) --> loop iterator\n",
        "           perform action"
      ]
    },
    {
      "cell_type": "code",
      "metadata": {
        "id": "d7MaDzn7Yrvh",
        "trusted": true,
        "colab": {
          "base_uri": "https://localhost:8080/"
        },
        "outputId": "81124050-4764-4849-e6f4-ba2d9074baa3"
      },
      "source": [
        "#Measure some strings\n",
        "words=['cat','window','university']\n",
        "\n",
        "# iterate through list of words and print the length of each\n",
        "for w in words:\n",
        "    print (w, len(w)) # what are we doing here?"
      ],
      "execution_count": 38,
      "outputs": [
        {
          "output_type": "stream",
          "text": [
            "cat 3\n",
            "window 6\n",
            "university 10\n"
          ],
          "name": "stdout"
        }
      ]
    },
    {
      "cell_type": "code",
      "metadata": {
        "id": "zuvqV_tyYryg",
        "trusted": true,
        "colab": {
          "base_uri": "https://localhost:8080/"
        },
        "outputId": "37cc5010-998d-4a5b-e981-d93a5d137e5b"
      },
      "source": [
        "#If you want to iterate over numbers use the range function\n",
        "a=['I','love','Python','language','!']\n",
        "\n",
        "for i in range(len(a)):\n",
        "    print (i, a[i])"
      ],
      "execution_count": 39,
      "outputs": [
        {
          "output_type": "stream",
          "text": [
            "0 I\n",
            "1 love\n",
            "2 Python\n",
            "3 language\n",
            "4 !\n"
          ],
          "name": "stdout"
        }
      ]
    },
    {
      "cell_type": "markdown",
      "metadata": {
        "id": "e80mcJbIMM2c"
      },
      "source": [
        "You can loop through a dictionary by using a for loop. When looping through a dictionary, the return value are the keys of the dictionary, but there are methods to return the values as well."
      ]
    },
    {
      "cell_type": "code",
      "metadata": {
        "id": "hfB644aKMM2d",
        "trusted": true,
        "colab": {
          "base_uri": "https://localhost:8080/"
        },
        "outputId": "880d1cb2-36c8-4cd5-b0aa-0143fac672c3"
      },
      "source": [
        "#print keys in the dictionary\n",
        "for x in info:\n",
        "  print(x)"
      ],
      "execution_count": 40,
      "outputs": [
        {
          "output_type": "stream",
          "text": [
            "Name\n",
            "Address\n",
            "Age\n",
            "Destination\n",
            "Year\n"
          ],
          "name": "stdout"
        }
      ]
    },
    {
      "cell_type": "code",
      "metadata": {
        "id": "YvY4zxSoMM2h",
        "trusted": true,
        "colab": {
          "base_uri": "https://localhost:8080/"
        },
        "outputId": "73a4704c-0345-40ed-a6d5-6043a87b8cd7"
      },
      "source": [
        "#print values in the dictionary\n",
        "for x in info.values():\n",
        "  print(x)"
      ],
      "execution_count": 41,
      "outputs": [
        {
          "output_type": "stream",
          "text": [
            "Jean\n",
            "Jbeil\n",
            "23\n",
            "AI Galaxy\n",
            "2021\n"
          ],
          "name": "stdout"
        }
      ]
    },
    {
      "cell_type": "code",
      "metadata": {
        "id": "jbhTlvgCMM2m",
        "trusted": true,
        "colab": {
          "base_uri": "https://localhost:8080/"
        },
        "outputId": "6afea6e9-32f9-499c-f3f3-54870e7a30af"
      },
      "source": [
        "#print keys and values adjacent to each other in the dictionary\n",
        "for x, y in info.items():\n",
        "  print(\"Key is: \" + x, \" Value is: \" + str(y))"
      ],
      "execution_count": 42,
      "outputs": [
        {
          "output_type": "stream",
          "text": [
            "Key is: Name  Value is: Jean\n",
            "Key is: Address  Value is: Jbeil\n",
            "Key is: Age  Value is: 23\n",
            "Key is: Destination  Value is: AI Galaxy\n",
            "Key is: Year  Value is: 2021\n"
          ],
          "name": "stdout"
        }
      ]
    },
    {
      "cell_type": "markdown",
      "metadata": {
        "id": "i_FaPu7TZJ94"
      },
      "source": [
        "## Functions"
      ]
    },
    {
      "cell_type": "code",
      "metadata": {
        "id": "71FP-KuKZLLe",
        "trusted": true,
        "colab": {
          "base_uri": "https://localhost:8080/"
        },
        "outputId": "c0be534e-83d3-4fe2-8cfa-49e36d657df8"
      },
      "source": [
        "# Write a function called \"equal\" that takes two inputs x and y\n",
        "# and prints True if they are equal and False otherwise\n",
        "\n",
        "def equal(x, y):\n",
        "  return(x==y)\n",
        "\n",
        "# Test your function\n",
        "print (equal(2,2))"
      ],
      "execution_count": 43,
      "outputs": [
        {
          "output_type": "stream",
          "text": [
            "True\n"
          ],
          "name": "stdout"
        }
      ]
    },
    {
      "cell_type": "code",
      "metadata": {
        "trusted": true,
        "id": "zwvq_2fnFWaI",
        "colab": {
          "base_uri": "https://localhost:8080/"
        },
        "outputId": "b7e3d279-a9b7-407d-ee28-983a0869df1a"
      },
      "source": [
        "print(equal(3,4))"
      ],
      "execution_count": 44,
      "outputs": [
        {
          "output_type": "stream",
          "text": [
            "False\n"
          ],
          "name": "stdout"
        }
      ]
    }
  ]
}