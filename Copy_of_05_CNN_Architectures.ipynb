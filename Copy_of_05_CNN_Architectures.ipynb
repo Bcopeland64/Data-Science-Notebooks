{
  "nbformat": 4,
  "nbformat_minor": 0,
  "metadata": {
    "colab": {
      "name": "Copy of 05_CNN_Architectures",
      "provenance": [],
      "collapsed_sections": [],
      "include_colab_link": true
    },
    "kernelspec": {
      "name": "python3",
      "display_name": "Python 3"
    }
  },
  "cells": [
    {
      "cell_type": "markdown",
      "metadata": {
        "id": "view-in-github",
        "colab_type": "text"
      },
      "source": [
        "<a href=\"https://colab.research.google.com/github/Bcopeland64/Data-Science-Notebooks/blob/master/Copy_of_05_CNN_Architectures.ipynb\" target=\"_parent\"><img src=\"https://colab.research.google.com/assets/colab-badge.svg\" alt=\"Open In Colab\"/></a>"
      ]
    },
    {
      "cell_type": "markdown",
      "metadata": {
        "id": "d9-L3pbzW_ed"
      },
      "source": [
        "© 2021 Zaka AI, Inc. All Rights Reserved"
      ]
    },
    {
      "cell_type": "markdown",
      "metadata": {
        "id": "WhPDBQomxeoa"
      },
      "source": [
        "#CNN Architectures\n",
        "**Objective:** The goal from this exercise is to get familiar with the codes that built famous CNN models like AlexNet and VGG19. It also introduces three types of Transfer Learning Usages with pre-trained classifier, standalone feature extractor and pre-trained model with custom classifier."
      ]
    },
    {
      "cell_type": "markdown",
      "metadata": {
        "id": "c2okGaDmyzNL"
      },
      "source": [
        "## Model Architectures Build\n",
        "In this section, we will observe how the AlexNet and VGG models were built with code."
      ]
    },
    {
      "cell_type": "markdown",
      "metadata": {
        "id": "Ewplb9gFPTr_"
      },
      "source": [
        "### AlexNet\n",
        "\n",
        "Code to build the AlexNet Architecture, winner of ILSVRC in 2012."
      ]
    },
    {
      "cell_type": "code",
      "metadata": {
        "id": "9KH3LyfJPPYi",
        "colab": {
          "base_uri": "https://localhost:8080/"
        },
        "outputId": "f9f04ed8-277f-4a12-949e-caeb1b48808b"
      },
      "source": [
        "from tensorflow.keras import layers\n",
        "from tensorflow.keras.models import Model\n",
        "\n",
        "in_layer = layers.Input((227,227,3))\n",
        "conv1 = layers.Conv2D(96, 11, strides=4, activation='relu')(in_layer)\n",
        "pool1 = layers.MaxPool2D(3, 2)(conv1)\n",
        "conv2 = layers.Conv2D(256, 5, strides=1, padding='same', activation='relu')(pool1)\n",
        "pool2 = layers.MaxPool2D(3, 2)(conv2)\n",
        "conv3 = layers.Conv2D(384, 3, strides=1, padding='same', activation='relu')(pool2)\n",
        "conv4 = layers.Conv2D(256, 3, strides=1, padding='same', activation='relu')(conv3)\n",
        "pool3 = layers.MaxPool2D(3, 2)(conv4)\n",
        "flattened = layers.Flatten()(pool3)\n",
        "dense1 = layers.Dense(4096, activation='relu')(flattened)\n",
        "drop1 = layers.Dropout(0.5)(dense1)\n",
        "dense2 = layers.Dense(4096, activation='relu')(drop1)\n",
        "drop2 = layers.Dropout(0.5)(dense2)\n",
        "preds = layers.Dense(1000, activation='softmax')(drop2)\n",
        "\n",
        "model = Model(in_layer, preds)\n",
        "model.compile(loss=\"categorical_crossentropy\", optimizer='sgd', metrics=[\"accuracy\"])\n",
        "\n",
        "model.summary()"
      ],
      "execution_count": 1,
      "outputs": [
        {
          "output_type": "stream",
          "text": [
            "Model: \"model\"\n",
            "_________________________________________________________________\n",
            "Layer (type)                 Output Shape              Param #   \n",
            "=================================================================\n",
            "input_1 (InputLayer)         [(None, 227, 227, 3)]     0         \n",
            "_________________________________________________________________\n",
            "conv2d (Conv2D)              (None, 55, 55, 96)        34944     \n",
            "_________________________________________________________________\n",
            "max_pooling2d (MaxPooling2D) (None, 27, 27, 96)        0         \n",
            "_________________________________________________________________\n",
            "conv2d_1 (Conv2D)            (None, 27, 27, 256)       614656    \n",
            "_________________________________________________________________\n",
            "max_pooling2d_1 (MaxPooling2 (None, 13, 13, 256)       0         \n",
            "_________________________________________________________________\n",
            "conv2d_2 (Conv2D)            (None, 13, 13, 384)       885120    \n",
            "_________________________________________________________________\n",
            "conv2d_3 (Conv2D)            (None, 13, 13, 256)       884992    \n",
            "_________________________________________________________________\n",
            "max_pooling2d_2 (MaxPooling2 (None, 6, 6, 256)         0         \n",
            "_________________________________________________________________\n",
            "flatten (Flatten)            (None, 9216)              0         \n",
            "_________________________________________________________________\n",
            "dense (Dense)                (None, 4096)              37752832  \n",
            "_________________________________________________________________\n",
            "dropout (Dropout)            (None, 4096)              0         \n",
            "_________________________________________________________________\n",
            "dense_1 (Dense)              (None, 4096)              16781312  \n",
            "_________________________________________________________________\n",
            "dropout_1 (Dropout)          (None, 4096)              0         \n",
            "_________________________________________________________________\n",
            "dense_2 (Dense)              (None, 1000)              4097000   \n",
            "=================================================================\n",
            "Total params: 61,050,856\n",
            "Trainable params: 61,050,856\n",
            "Non-trainable params: 0\n",
            "_________________________________________________________________\n"
          ],
          "name": "stdout"
        }
      ]
    },
    {
      "cell_type": "markdown",
      "metadata": {
        "id": "D8zyntPyQYhW"
      },
      "source": [
        "### VGG19\n",
        "Code to build the VGG16 and VGG19 Architectures, winner of ILSVRC in 2014."
      ]
    },
    {
      "cell_type": "code",
      "metadata": {
        "id": "dqxzQKJuQd9d",
        "colab": {
          "base_uri": "https://localhost:8080/"
        },
        "outputId": "0dce281f-3e01-4b9e-efb5-49f80da89ede"
      },
      "source": [
        "# Code to build VGG Architecture\n",
        "\n",
        "from tensorflow.keras import layers\n",
        "from tensorflow.keras.models import Model, Sequential\n",
        "\n",
        "from functools import partial\n",
        "\n",
        "conv3 = partial(layers.Conv2D,\n",
        "                kernel_size=3,\n",
        "                strides=1,\n",
        "                padding='same',\n",
        "                activation='relu')\n",
        "\n",
        "def block(in_tensor, filters, n_convs):\n",
        "    conv_block = in_tensor\n",
        "    for _ in range(n_convs):\n",
        "        conv_block = conv3(filters=filters)(conv_block)\n",
        "    return conv_block\n",
        "\n",
        "def _vgg(in_shape=(224,224,3),\n",
        "         n_classes=1000,\n",
        "         opt='sgd',\n",
        "         n_stages_per_blocks=[2, 2, 3, 3, 3]):\n",
        "    in_layer = layers.Input(in_shape)\n",
        "\n",
        "    block1 = block(in_layer, 64, n_stages_per_blocks[0])\n",
        "    pool1 = layers.MaxPool2D()(block1)\n",
        "    block2 = block(pool1, 128, n_stages_per_blocks[1])\n",
        "    pool2 = layers.MaxPool2D()(block2)\n",
        "    block3 = block(pool2, 256, n_stages_per_blocks[2])\n",
        "    pool3 = layers.MaxPool2D()(block3)\n",
        "    block4 = block(pool3, 512, n_stages_per_blocks[3])\n",
        "    pool4 = layers.MaxPool2D()(block4)\n",
        "    block5 = block(pool4, 512, n_stages_per_blocks[4])\n",
        "    pool5 = layers.MaxPool2D()(block5)\n",
        "    flattened = layers.GlobalAvgPool2D()(pool5)\n",
        "  \n",
        "    # DNN\n",
        "    dense1 = layers.Dense(4096, activation='relu')(flattened)\n",
        "    dense2 = layers.Dense(4096, activation='relu')(dense1)\n",
        "    preds = layers.Dense(1000, activation='softmax')(dense2)\n",
        "\n",
        "    model = Model(in_layer, preds)\n",
        "    model.compile(loss=\"categorical_crossentropy\", optimizer=opt,\n",
        "\t              metrics=[\"accuracy\"])\n",
        "    return model\n",
        "\n",
        "def vgg16(in_shape=(224,224,3), n_classes=1000, opt='sgd'):\n",
        "    return _vgg(in_shape, n_classes, opt)\n",
        "\n",
        "def vgg19(in_shape=(224,224,3), n_classes=1000, opt='sgd'):\n",
        "    return _vgg(in_shape, n_classes, opt, [2, 2, 4, 4, 4])\n",
        "\n",
        "model = vgg19()\n",
        "model.summary()"
      ],
      "execution_count": 2,
      "outputs": [
        {
          "output_type": "stream",
          "text": [
            "Model: \"model_1\"\n",
            "_________________________________________________________________\n",
            "Layer (type)                 Output Shape              Param #   \n",
            "=================================================================\n",
            "input_2 (InputLayer)         [(None, 224, 224, 3)]     0         \n",
            "_________________________________________________________________\n",
            "conv2d_4 (Conv2D)            (None, 224, 224, 64)      1792      \n",
            "_________________________________________________________________\n",
            "conv2d_5 (Conv2D)            (None, 224, 224, 64)      36928     \n",
            "_________________________________________________________________\n",
            "max_pooling2d_3 (MaxPooling2 (None, 112, 112, 64)      0         \n",
            "_________________________________________________________________\n",
            "conv2d_6 (Conv2D)            (None, 112, 112, 128)     73856     \n",
            "_________________________________________________________________\n",
            "conv2d_7 (Conv2D)            (None, 112, 112, 128)     147584    \n",
            "_________________________________________________________________\n",
            "max_pooling2d_4 (MaxPooling2 (None, 56, 56, 128)       0         \n",
            "_________________________________________________________________\n",
            "conv2d_8 (Conv2D)            (None, 56, 56, 256)       295168    \n",
            "_________________________________________________________________\n",
            "conv2d_9 (Conv2D)            (None, 56, 56, 256)       590080    \n",
            "_________________________________________________________________\n",
            "conv2d_10 (Conv2D)           (None, 56, 56, 256)       590080    \n",
            "_________________________________________________________________\n",
            "conv2d_11 (Conv2D)           (None, 56, 56, 256)       590080    \n",
            "_________________________________________________________________\n",
            "max_pooling2d_5 (MaxPooling2 (None, 28, 28, 256)       0         \n",
            "_________________________________________________________________\n",
            "conv2d_12 (Conv2D)           (None, 28, 28, 512)       1180160   \n",
            "_________________________________________________________________\n",
            "conv2d_13 (Conv2D)           (None, 28, 28, 512)       2359808   \n",
            "_________________________________________________________________\n",
            "conv2d_14 (Conv2D)           (None, 28, 28, 512)       2359808   \n",
            "_________________________________________________________________\n",
            "conv2d_15 (Conv2D)           (None, 28, 28, 512)       2359808   \n",
            "_________________________________________________________________\n",
            "max_pooling2d_6 (MaxPooling2 (None, 14, 14, 512)       0         \n",
            "_________________________________________________________________\n",
            "conv2d_16 (Conv2D)           (None, 14, 14, 512)       2359808   \n",
            "_________________________________________________________________\n",
            "conv2d_17 (Conv2D)           (None, 14, 14, 512)       2359808   \n",
            "_________________________________________________________________\n",
            "conv2d_18 (Conv2D)           (None, 14, 14, 512)       2359808   \n",
            "_________________________________________________________________\n",
            "conv2d_19 (Conv2D)           (None, 14, 14, 512)       2359808   \n",
            "_________________________________________________________________\n",
            "max_pooling2d_7 (MaxPooling2 (None, 7, 7, 512)         0         \n",
            "_________________________________________________________________\n",
            "global_average_pooling2d (Gl (None, 512)               0         \n",
            "_________________________________________________________________\n",
            "dense_3 (Dense)              (None, 4096)              2101248   \n",
            "_________________________________________________________________\n",
            "dense_4 (Dense)              (None, 4096)              16781312  \n",
            "_________________________________________________________________\n",
            "dense_5 (Dense)              (None, 1000)              4097000   \n",
            "=================================================================\n",
            "Total params: 43,003,944\n",
            "Trainable params: 43,003,944\n",
            "Non-trainable params: 0\n",
            "_________________________________________________________________\n"
          ],
          "name": "stdout"
        }
      ]
    },
    {
      "cell_type": "markdown",
      "metadata": {
        "id": "Xg0TZvRBbIb2"
      },
      "source": [
        "###Importing VGG19()\n",
        "An easier and better way to use VGG model architecture.\n"
      ]
    },
    {
      "cell_type": "code",
      "metadata": {
        "id": "qBPar1I8AhDN",
        "colab": {
          "base_uri": "https://localhost:8080/"
        },
        "outputId": "374dbcda-783c-4f3f-8b70-35f79678c488"
      },
      "source": [
        "# example of loading the vgg19 model\n",
        "from tensorflow.keras.applications.vgg19 import VGG19\n",
        "\n",
        "# load model\n",
        "model = VGG19()\n",
        "\n",
        "# summarize the model\n",
        "model.summary()"
      ],
      "execution_count": 3,
      "outputs": [
        {
          "output_type": "stream",
          "text": [
            "Downloading data from https://storage.googleapis.com/tensorflow/keras-applications/vgg19/vgg19_weights_tf_dim_ordering_tf_kernels.h5\n",
            "574717952/574710816 [==============================] - 4s 0us/step\n",
            "Model: \"vgg19\"\n",
            "_________________________________________________________________\n",
            "Layer (type)                 Output Shape              Param #   \n",
            "=================================================================\n",
            "input_3 (InputLayer)         [(None, 224, 224, 3)]     0         \n",
            "_________________________________________________________________\n",
            "block1_conv1 (Conv2D)        (None, 224, 224, 64)      1792      \n",
            "_________________________________________________________________\n",
            "block1_conv2 (Conv2D)        (None, 224, 224, 64)      36928     \n",
            "_________________________________________________________________\n",
            "block1_pool (MaxPooling2D)   (None, 112, 112, 64)      0         \n",
            "_________________________________________________________________\n",
            "block2_conv1 (Conv2D)        (None, 112, 112, 128)     73856     \n",
            "_________________________________________________________________\n",
            "block2_conv2 (Conv2D)        (None, 112, 112, 128)     147584    \n",
            "_________________________________________________________________\n",
            "block2_pool (MaxPooling2D)   (None, 56, 56, 128)       0         \n",
            "_________________________________________________________________\n",
            "block3_conv1 (Conv2D)        (None, 56, 56, 256)       295168    \n",
            "_________________________________________________________________\n",
            "block3_conv2 (Conv2D)        (None, 56, 56, 256)       590080    \n",
            "_________________________________________________________________\n",
            "block3_conv3 (Conv2D)        (None, 56, 56, 256)       590080    \n",
            "_________________________________________________________________\n",
            "block3_conv4 (Conv2D)        (None, 56, 56, 256)       590080    \n",
            "_________________________________________________________________\n",
            "block3_pool (MaxPooling2D)   (None, 28, 28, 256)       0         \n",
            "_________________________________________________________________\n",
            "block4_conv1 (Conv2D)        (None, 28, 28, 512)       1180160   \n",
            "_________________________________________________________________\n",
            "block4_conv2 (Conv2D)        (None, 28, 28, 512)       2359808   \n",
            "_________________________________________________________________\n",
            "block4_conv3 (Conv2D)        (None, 28, 28, 512)       2359808   \n",
            "_________________________________________________________________\n",
            "block4_conv4 (Conv2D)        (None, 28, 28, 512)       2359808   \n",
            "_________________________________________________________________\n",
            "block4_pool (MaxPooling2D)   (None, 14, 14, 512)       0         \n",
            "_________________________________________________________________\n",
            "block5_conv1 (Conv2D)        (None, 14, 14, 512)       2359808   \n",
            "_________________________________________________________________\n",
            "block5_conv2 (Conv2D)        (None, 14, 14, 512)       2359808   \n",
            "_________________________________________________________________\n",
            "block5_conv3 (Conv2D)        (None, 14, 14, 512)       2359808   \n",
            "_________________________________________________________________\n",
            "block5_conv4 (Conv2D)        (None, 14, 14, 512)       2359808   \n",
            "_________________________________________________________________\n",
            "block5_pool (MaxPooling2D)   (None, 7, 7, 512)         0         \n",
            "_________________________________________________________________\n",
            "flatten (Flatten)            (None, 25088)             0         \n",
            "_________________________________________________________________\n",
            "fc1 (Dense)                  (None, 4096)              102764544 \n",
            "_________________________________________________________________\n",
            "fc2 (Dense)                  (None, 4096)              16781312  \n",
            "_________________________________________________________________\n",
            "predictions (Dense)          (None, 1000)              4097000   \n",
            "=================================================================\n",
            "Total params: 143,667,240\n",
            "Trainable params: 143,667,240\n",
            "Non-trainable params: 0\n",
            "_________________________________________________________________\n"
          ],
          "name": "stdout"
        }
      ]
    },
    {
      "cell_type": "markdown",
      "metadata": {
        "id": "Vniu95-4zE5D"
      },
      "source": [
        "##Transfer Learning"
      ]
    },
    {
      "cell_type": "markdown",
      "metadata": {
        "id": "itG-EmNAE5ro"
      },
      "source": [
        "### Pretrained classifier\n",
        "\n",
        "How to use a pretrained classifier to directly predict on images. First, getting an image to work on using `curl`"
      ]
    },
    {
      "cell_type": "code",
      "metadata": {
        "id": "PpQdvtqGFEpy",
        "colab": {
          "base_uri": "https://localhost:8080/"
        },
        "outputId": "19f5ba1d-60e7-4e26-e720-bff8ea0808a8"
      },
      "source": [
        "# let's download an image from the internet\n",
        "!curl -o dog.jpg https://images.pexels.com/photos/356378/pexels-photo-356378.jpeg?auto=compress&cs=tinysrgb&dpr=1&w=500"
      ],
      "execution_count": 4,
      "outputs": [
        {
          "output_type": "stream",
          "text": [
            "  % Total    % Received % Xferd  Average Speed   Time    Time     Time  Current\n",
            "                                 Dload  Upload   Total   Spent    Left  Speed\n",
            "100 1273k  100 1273k    0     0  3777k      0 --:--:-- --:--:-- --:--:-- 3777k\n"
          ],
          "name": "stdout"
        }
      ]
    },
    {
      "cell_type": "markdown",
      "metadata": {
        "id": "VBspBng_zW_f"
      },
      "source": [
        "Preparing the image and calling the VGG model to predict with it the class of the object in the image"
      ]
    },
    {
      "cell_type": "code",
      "metadata": {
        "id": "dtxAB4KFE9XQ",
        "colab": {
          "base_uri": "https://localhost:8080/"
        },
        "outputId": "177c7742-dad3-4fad-fbe7-585093b1d0b6"
      },
      "source": [
        "# example of using a pre-trained model as a classifier\n",
        "from tensorflow.keras.preprocessing.image import load_img\n",
        "from tensorflow.keras.preprocessing.image import img_to_array\n",
        "\n",
        "from tensorflow.keras.applications.vgg16 import preprocess_input\n",
        "from tensorflow.keras.applications.vgg16 import decode_predictions\n",
        "from tensorflow.keras.applications.vgg16 import VGG16\n",
        "\n",
        "# load an image from file\n",
        "image = load_img('dog.jpg', target_size=(224, 224))\n",
        "\n",
        "# convert the image pixels to a numpy array\n",
        "image = img_to_array(image)\n",
        "\n",
        "# reshape data for the model\n",
        "image = image.reshape((1, image.shape[0], image.shape[1], image.shape[2]))\n",
        "\n",
        "# prepare the image for the VGG model\n",
        "image = preprocess_input(image)\n",
        "\n",
        "# load the model\n",
        "model = VGG16()\n",
        "\n",
        "# predict the probability across all output classes\n",
        "yhat = model.predict(image)\n",
        "\n",
        "# convert the probabilities to class labels\n",
        "label = decode_predictions(yhat)\n",
        "\n",
        "print(label)\n",
        "\n",
        "# retrieve the most likely result, e.g. highest probability\n",
        "label = label[0][0]\n",
        "\n",
        "# print the classification\n",
        "print('%s (%.2f%%)' % (label[1], label[2]*100))"
      ],
      "execution_count": 5,
      "outputs": [
        {
          "output_type": "stream",
          "text": [
            "Downloading data from https://storage.googleapis.com/tensorflow/keras-applications/vgg16/vgg16_weights_tf_dim_ordering_tf_kernels.h5\n",
            "553467904/553467096 [==============================] - 3s 0us/step\n",
            "Downloading data from https://storage.googleapis.com/download.tensorflow.org/data/imagenet_class_index.json\n",
            "40960/35363 [==================================] - 0s 0us/step\n",
            "[[('n02109961', 'Eskimo_dog', 0.24882697), ('n02106662', 'German_shepherd', 0.1530736), ('n02114548', 'white_wolf', 0.11597989), ('n02111889', 'Samoyed', 0.114389956), ('n02111500', 'Great_Pyrenees', 0.05268669)]]\n",
            "Eskimo_dog (24.88%)\n"
          ],
          "name": "stdout"
        }
      ]
    },
    {
      "cell_type": "markdown",
      "metadata": {
        "id": "LhLuOEcpGTVy"
      },
      "source": [
        "### Standalone Feature Extractor\n",
        "\n",
        "How to use the pretrained VGG model as a standalone feature extractor and using the same image from before."
      ]
    },
    {
      "cell_type": "code",
      "metadata": {
        "id": "d1zkUnwnGV0Z",
        "colab": {
          "base_uri": "https://localhost:8080/"
        },
        "outputId": "7c7ad8d6-a40c-4048-9356-fe610e01e8d7"
      },
      "source": [
        "# example of using the vgg16 model as a feature extraction model\n",
        "from tensorflow.keras.preprocessing.image import load_img\n",
        "from tensorflow.keras.preprocessing.image import img_to_array\n",
        "from tensorflow.keras.applications.vgg16 import preprocess_input\n",
        "from tensorflow.keras.applications.vgg16 import VGG16\n",
        "from tensorflow.keras.models import Model\n",
        "\n",
        "# load an image from file\n",
        "image = load_img('dog.jpg', target_size=(224, 224))\n",
        "\n",
        "# convert the image pixels to a numpy array\n",
        "image = img_to_array(image)\n",
        "\n",
        "# reshape data for the model\n",
        "image = image.reshape((1, image.shape[0], image.shape[1], image.shape[2]))\n",
        "\n",
        "# prepare the image for the VGG model\n",
        "image = preprocess_input(image)\n",
        "\n",
        "# load model\n",
        "model = VGG16()\n",
        "\n",
        "# remove the output layer\n",
        "my_model = Model(inputs=model.inputs, outputs=model.layers[-2].output)\n",
        "\n",
        "print(\"Passing image to model ...\")\n",
        "\n",
        "# get extracted features\n",
        "features = my_model.predict(image)\n",
        "print(\"Output shape: {}\".format(features.shape))"
      ],
      "execution_count": 6,
      "outputs": [
        {
          "output_type": "stream",
          "text": [
            "Passing image to model ...\n",
            "Output shape: (1, 4096)\n"
          ],
          "name": "stdout"
        }
      ]
    },
    {
      "cell_type": "markdown",
      "metadata": {
        "id": "RBAPkmwUPvSB"
      },
      "source": [
        "### Integrated Feature Extractor\n",
        "We can also use the model architecture for feature extraction and integrate it into a new classification model. This means we load the CNN architecture without the fully connected layers and then build these ourselves."
      ]
    },
    {
      "cell_type": "code",
      "metadata": {
        "id": "Z2JfMM1ZHKiI",
        "colab": {
          "base_uri": "https://localhost:8080/"
        },
        "outputId": "6bd328d6-b300-4c08-929f-972b8807395c"
      },
      "source": [
        "# example of tending the vgg16 model\n",
        "from tensorflow.keras.applications.vgg16 import VGG16\n",
        "from tensorflow.keras.models import Model, Sequential\n",
        "from tensorflow.keras.layers import Dense\n",
        "from tensorflow.keras.layers import Flatten\n",
        "\n",
        "# load model without classifier layers\n",
        "model = Sequential()\n",
        "model.add(VGG16(include_top=False, input_shape=(300, 300, 3)))\n",
        "\n",
        "for layer in model.layers:\n",
        "  layer.trainable = False\n",
        "\n",
        "model.add(Flatten())\n",
        "model.add(Dense(1024, activation='relu'))\n",
        "model.add(Dense(10, activation='softmax'))\n",
        "\n",
        "# summarize\n",
        "model.summary()"
      ],
      "execution_count": 7,
      "outputs": [
        {
          "output_type": "stream",
          "text": [
            "Downloading data from https://storage.googleapis.com/tensorflow/keras-applications/vgg16/vgg16_weights_tf_dim_ordering_tf_kernels_notop.h5\n",
            "58892288/58889256 [==============================] - 1s 0us/step\n",
            "Model: \"sequential\"\n",
            "_________________________________________________________________\n",
            "Layer (type)                 Output Shape              Param #   \n",
            "=================================================================\n",
            "vgg16 (Functional)           (None, 9, 9, 512)         14714688  \n",
            "_________________________________________________________________\n",
            "flatten_1 (Flatten)          (None, 41472)             0         \n",
            "_________________________________________________________________\n",
            "dense_6 (Dense)              (None, 1024)              42468352  \n",
            "_________________________________________________________________\n",
            "dense_7 (Dense)              (None, 10)                10250     \n",
            "=================================================================\n",
            "Total params: 57,193,290\n",
            "Trainable params: 42,478,602\n",
            "Non-trainable params: 14,714,688\n",
            "_________________________________________________________________\n"
          ],
          "name": "stdout"
        }
      ]
    }
  ]
}